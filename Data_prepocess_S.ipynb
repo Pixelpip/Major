{
  "nbformat": 4,
  "nbformat_minor": 0,
  "metadata": {
    "colab": {
      "provenance": []
    },
    "kernelspec": {
      "name": "python3",
      "display_name": "Python 3"
    },
    "language_info": {
      "name": "python"
    }
  },
  "cells": [
    {
      "cell_type": "code",
      "source": [
        "from google.colab import drive\n",
        "drive.mount('/content/drive')"
      ],
      "metadata": {
        "colab": {
          "base_uri": "https://localhost:8080/"
        },
        "id": "v58hYiVJHdLy",
        "outputId": "8a006b0b-61ea-4640-8546-9cbd0e9823e4"
      },
      "execution_count": null,
      "outputs": [
        {
          "output_type": "stream",
          "name": "stdout",
          "text": [
            "Drive already mounted at /content/drive; to attempt to forcibly remount, call drive.mount(\"/content/drive\", force_remount=True).\n"
          ]
        }
      ]
    },
    {
      "cell_type": "code",
      "source": [
        "!pip install neurokit2"
      ],
      "metadata": {
        "colab": {
          "base_uri": "https://localhost:8080/"
        },
        "id": "cdJEW2PNGe67",
        "outputId": "4b4f190d-9551-46ee-8dfa-ba8026ef549c"
      },
      "execution_count": 3,
      "outputs": [
        {
          "output_type": "stream",
          "name": "stdout",
          "text": [
            "Requirement already satisfied: neurokit2 in /usr/local/lib/python3.11/dist-packages (0.2.10)\n",
            "Requirement already satisfied: requests in /usr/local/lib/python3.11/dist-packages (from neurokit2) (2.32.3)\n",
            "Requirement already satisfied: numpy in /usr/local/lib/python3.11/dist-packages (from neurokit2) (2.0.2)\n",
            "Requirement already satisfied: pandas in /usr/local/lib/python3.11/dist-packages (from neurokit2) (2.2.2)\n",
            "Requirement already satisfied: scipy in /usr/local/lib/python3.11/dist-packages (from neurokit2) (1.15.2)\n",
            "Requirement already satisfied: scikit-learn>=1.0.0 in /usr/local/lib/python3.11/dist-packages (from neurokit2) (1.6.1)\n",
            "Requirement already satisfied: matplotlib in /usr/local/lib/python3.11/dist-packages (from neurokit2) (3.10.0)\n",
            "Requirement already satisfied: joblib>=1.2.0 in /usr/local/lib/python3.11/dist-packages (from scikit-learn>=1.0.0->neurokit2) (1.4.2)\n",
            "Requirement already satisfied: threadpoolctl>=3.1.0 in /usr/local/lib/python3.11/dist-packages (from scikit-learn>=1.0.0->neurokit2) (3.6.0)\n",
            "Requirement already satisfied: contourpy>=1.0.1 in /usr/local/lib/python3.11/dist-packages (from matplotlib->neurokit2) (1.3.2)\n",
            "Requirement already satisfied: cycler>=0.10 in /usr/local/lib/python3.11/dist-packages (from matplotlib->neurokit2) (0.12.1)\n",
            "Requirement already satisfied: fonttools>=4.22.0 in /usr/local/lib/python3.11/dist-packages (from matplotlib->neurokit2) (4.57.0)\n",
            "Requirement already satisfied: kiwisolver>=1.3.1 in /usr/local/lib/python3.11/dist-packages (from matplotlib->neurokit2) (1.4.8)\n",
            "Requirement already satisfied: packaging>=20.0 in /usr/local/lib/python3.11/dist-packages (from matplotlib->neurokit2) (24.2)\n",
            "Requirement already satisfied: pillow>=8 in /usr/local/lib/python3.11/dist-packages (from matplotlib->neurokit2) (11.2.1)\n",
            "Requirement already satisfied: pyparsing>=2.3.1 in /usr/local/lib/python3.11/dist-packages (from matplotlib->neurokit2) (3.2.3)\n",
            "Requirement already satisfied: python-dateutil>=2.7 in /usr/local/lib/python3.11/dist-packages (from matplotlib->neurokit2) (2.9.0.post0)\n",
            "Requirement already satisfied: pytz>=2020.1 in /usr/local/lib/python3.11/dist-packages (from pandas->neurokit2) (2025.2)\n",
            "Requirement already satisfied: tzdata>=2022.7 in /usr/local/lib/python3.11/dist-packages (from pandas->neurokit2) (2025.2)\n",
            "Requirement already satisfied: charset-normalizer<4,>=2 in /usr/local/lib/python3.11/dist-packages (from requests->neurokit2) (3.4.1)\n",
            "Requirement already satisfied: idna<4,>=2.5 in /usr/local/lib/python3.11/dist-packages (from requests->neurokit2) (3.10)\n",
            "Requirement already satisfied: urllib3<3,>=1.21.1 in /usr/local/lib/python3.11/dist-packages (from requests->neurokit2) (2.4.0)\n",
            "Requirement already satisfied: certifi>=2017.4.17 in /usr/local/lib/python3.11/dist-packages (from requests->neurokit2) (2025.4.26)\n",
            "Requirement already satisfied: six>=1.5 in /usr/local/lib/python3.11/dist-packages (from python-dateutil>=2.7->matplotlib->neurokit2) (1.17.0)\n"
          ]
        }
      ]
    },
    {
      "cell_type": "code",
      "source": [
        "import pickle\n",
        "import pandas as pd\n",
        "import numpy as np\n",
        "import os\n",
        "# Load data\n",
        "pkl_file = '/content/drive/MyDrive/WESAD_pkl/S17.pkl'\n",
        "subject_id = os.path.basename(pkl_file).split('.')[0]\n",
        "with open(pkl_file, 'rb') as file:\n",
        "    data = pickle.load(file, encoding='latin1')\n",
        "\n",
        "# Extract ECG and labels\n",
        "ecg = data['signal']['chest']['ECG']  # shape (n_samples, 2)\n",
        "labels = data['label']                # shape (n_samples,)\n",
        "\n",
        "# Check shape\n",
        "print(\"ECG shape:\", ecg.shape)        # should be (5537, 2) or similar\n",
        "print(\"Labels shape:\", labels.shape)  # should be (same number of samples,)\n",
        "\n",
        "# Use just the first ECG channel (e.g., lead I)\n",
        "ecg_signal = ecg[:, 0]\n",
        "\n",
        "# Ensure same length for DataFrame (truncate if needed)\n",
        "min_len = min(len(ecg_signal), len(labels))\n",
        "ecg_signal = ecg_signal[:min_len]\n",
        "labels = labels[:min_len]\n",
        "\n",
        "# Create DataFrame\n",
        "df = pd.DataFrame({\n",
        "    'ECG': ecg_signal,\n",
        "    'Label': labels\n",
        "})\n",
        "\n",
        "# Duration in seconds\n",
        "duration_seconds = len(ecg_signal) / 700\n",
        "print(f\"ECG Duration: {duration_seconds:.2f} seconds\")\n",
        "\n",
        "# Remove entries with labels 0, 5, 6, or 7\n",
        "filtered_df = df[~df['Label'].isin([0, 5, 6, 7])].reset_index(drop=True)\n",
        "\n",
        "# Check result\n",
        "print(filtered_df['Label'].unique())\n",
        "print(filtered_df.shape)\n"
      ],
      "metadata": {
        "colab": {
          "base_uri": "https://localhost:8080/"
        },
        "id": "pmki96o-BaA7",
        "outputId": "e2502139-2497-4f50-eeec-9f090caf00d9"
      },
      "execution_count": 50,
      "outputs": [
        {
          "output_type": "stream",
          "name": "stdout",
          "text": [
            "ECG shape: (4144000, 1)\n",
            "Labels shape: (4144000,)\n",
            "ECG Duration: 5920.00 seconds\n",
            "[1 3 4 2]\n",
            "(2104900, 2)\n"
          ]
        }
      ]
    },
    {
      "cell_type": "code",
      "source": [
        "\n",
        "import neurokit2 as nk\n",
        "import pandas as pd\n",
        "\n",
        "# 30 seconds of ECG at 700Hz\n",
        "sampling_rate = 700\n",
        "ecg_segment = filtered_df['ECG'].values[:30 * sampling_rate]\n",
        "\n",
        "# 1. Process ECG to detect peaks & clean signal\n",
        "signals, info = nk.ecg_process(ecg_segment, sampling_rate=sampling_rate)\n",
        "\n",
        "# 2. Extract HRV features\n",
        "hrv_features = nk.hrv_time(signals['ECG_R_Peaks'], sampling_rate=sampling_rate, show=False)\n",
        "print(hrv_features.T)\n",
        "\n",
        "\n",
        "\n"
      ],
      "metadata": {
        "colab": {
          "base_uri": "https://localhost:8080/"
        },
        "id": "aDTcAX-1CyRz",
        "outputId": "2f76b2e7-3be8-4ebc-9bbf-3f6e4e40dddc"
      },
      "execution_count": 51,
      "outputs": [
        {
          "output_type": "stream",
          "name": "stdout",
          "text": [
            "                        0\n",
            "HRV_MeanNN     734.761905\n",
            "HRV_SDNN       114.715514\n",
            "HRV_SDANN1            NaN\n",
            "HRV_SDNNI1            NaN\n",
            "HRV_SDANN2            NaN\n",
            "HRV_SDNNI2            NaN\n",
            "HRV_SDANN5            NaN\n",
            "HRV_SDNNI5            NaN\n",
            "HRV_RMSSD       72.781547\n",
            "HRV_SDSD        73.125991\n",
            "HRV_CVNN         0.156126\n",
            "HRV_CVSD         0.099055\n",
            "HRV_MedianNN   704.285714\n",
            "HRV_MadNN       84.720000\n",
            "HRV_MCVNN        0.120292\n",
            "HRV_IQRNN      126.428571\n",
            "HRV_SDRMSSD      1.576162\n",
            "HRV_Prc20NN    649.714286\n",
            "HRV_Prc80NN    820.571429\n",
            "HRV_pNN50       23.076923\n",
            "HRV_pNN20       64.102564\n",
            "HRV_MinNN      594.285714\n",
            "HRV_MaxNN     1058.571429\n",
            "HRV_HTI          7.800000\n",
            "HRV_TINN        85.937500\n"
          ]
        }
      ]
    },
    {
      "cell_type": "code",
      "source": [
        "import neurokit2 as nk\n",
        "import pandas as pd\n",
        "import numpy as np\n",
        "from tqdm import tqdm\n",
        "\n",
        "# Constants\n",
        "sampling_rate = 700\n",
        "window_duration = 30  # seconds\n",
        "window_size = sampling_rate * window_duration\n",
        "\n",
        "# Store HRV feature rows\n",
        "feature_rows = []\n",
        "\n",
        "# Iterate over non-overlapping 30-second windows\n",
        "for start in tqdm(range(0, len(filtered_df) - window_size, window_size)):\n",
        "    end = start + window_size\n",
        "    ecg_window = filtered_df['ECG'].values[start:end]\n",
        "    label_window = filtered_df['Label'].values[start:end]\n",
        "\n",
        "    # Skip if multiple labels in window\n",
        "    if len(np.unique(label_window)) > 1:\n",
        "        continue\n",
        "\n",
        "    label = label_window[0]\n",
        "\n",
        "    try:\n",
        "        # Step 1: Process ECG to get R-peaks\n",
        "        signals, info = nk.ecg_process(ecg_window, sampling_rate=sampling_rate)\n",
        "\n",
        "        # Step 2: Extract HRV time-domain features\n",
        "        hrv_features = nk.hrv_time(signals['ECG_R_Peaks'], sampling_rate=sampling_rate, show=False)\n",
        "\n",
        "        # Step 3: Attach label\n",
        "        hrv_features['Label'] = label\n",
        "\n",
        "        # Save\n",
        "        feature_rows.append(hrv_features)\n",
        "\n",
        "    except Exception:\n",
        "        continue  # skip faulty segments\n",
        "\n",
        "# Combine all features\n",
        "hrv_dataset = pd.concat(feature_rows, ignore_index=True)\n",
        "\n",
        "# Drop columns that are completely NaN\n",
        "hrv_dataset.dropna(axis=1, how='all', inplace=True)\n",
        "\n",
        "# Save to CSV\n",
        "output_path = f\"/content/hrv_features_labeled_{subject_id}.csv\"\n",
        "hrv_dataset.to_csv(output_path, index=False)\n",
        "\n",
        "print(f\"✅ HRV feature dataset saved to: {output_path}\")\n"
      ],
      "metadata": {
        "colab": {
          "base_uri": "https://localhost:8080/"
        },
        "id": "tEREBg1yEMXB",
        "outputId": "55ecf079-00b7-4654-ddc5-2ca6ca6d731b"
      },
      "execution_count": 52,
      "outputs": [
        {
          "output_type": "stream",
          "name": "stderr",
          "text": [
            "100%|██████████| 100/100 [00:40<00:00,  2.46it/s]"
          ]
        },
        {
          "output_type": "stream",
          "name": "stdout",
          "text": [
            "✅ HRV feature dataset saved to: /content/hrv_features_labeled_S17.csv\n"
          ]
        },
        {
          "output_type": "stream",
          "name": "stderr",
          "text": [
            "\n"
          ]
        }
      ]
    },
    {
      "cell_type": "code",
      "source": [
        "import pandas as pd\n",
        "\n",
        "# Read the CSV files\n",
        "df1 = pd.read_csv(\"/content/hrv_features_labeled_S2.csv\")\n",
        "df2 =pd.read_csv(\"/content/hrv_features_labeled_S3.csv\")\n",
        "df3 = pd.read_csv(\"/content/hrv_features_labeled_S4.csv\")\n",
        "df4 = pd.read_csv(\"/content/hrv_features_labeled_S5.csv\")\n",
        "df5 = pd.read_csv(\"/content/hrv_features_labeled_S6.csv\")\n",
        "df6 = pd.read_csv(\"/content/hrv_features_labeled_S7.csv\")\n",
        "df7 = pd.read_csv(\"/content/hrv_features_labeled_S8.csv\")\n",
        "df8 = pd.read_csv(\"/content/hrv_features_labeled_S9.csv\")\n",
        "df9 = pd.read_csv(\"/content/hrv_features_labeled_S10.csv\")\n",
        "df10 = pd.read_csv(\"/content/hrv_features_labeled_S11.csv\")\n",
        "df11 = pd.read_csv(\"/content/hrv_features_labeled_S13.csv\")\n",
        "df12 = pd.read_csv(\"/content/hrv_features_labeled_S14.csv\")\n",
        "#df13 = pd.read_csv(\"/content/hrv_features_labeled_S15.csv\")\n",
        "#df14 = pd.read_csv(\"/content/hrv_features_labeled_S16.csv\")\n",
        "#df15 = pd.read_csv(\"/content/hrv_features_labeled_S17.csv\")\n",
        "# Concatenate the data (ignore the header in the second file)\n",
        "merged_df = pd.concat([df1, df2,df3,df4,df5,df6,df7,df8,df9,df10,df11,df12], ignore_index=True)\n",
        "\n",
        "# Write the merged data to a new CSV file\n",
        "merged_df.to_csv('merged_file.csv', index=False)\n"
      ],
      "metadata": {
        "id": "spk0Eu4AOHWg"
      },
      "execution_count": 83,
      "outputs": []
    },
    {
      "cell_type": "code",
      "source": [
        "import pandas as pd\n",
        "import matplotlib.pyplot as plt\n",
        "\n",
        "# Load your HRV features CSV\n",
        "csv_path = '/content/drive/MyDrive/WESAD_pkl/merged_file.csv'  # change if needed\n",
        "df = pd.read_csv(csv_path)\n",
        "\n",
        "# Count the number of samples for each label\n",
        "label_counts = df['Label'].value_counts().sort_index()\n",
        "\n",
        "# Plot\n",
        "plt.figure(figsize=(8, 5))\n",
        "label_counts.plot(kind='bar', color='skyblue', edgecolor='black')\n",
        "plt.xlabel('Class Label')\n",
        "plt.ylabel('Count')\n",
        "plt.title('Class Imbalance')\n",
        "plt.xticks(rotation=0)\n",
        "plt.grid(axis='y', linestyle='--', alpha=0.7)\n",
        "plt.show()\n"
      ],
      "metadata": {
        "colab": {
          "base_uri": "https://localhost:8080/",
          "height": 487
        },
        "id": "J71v12j6Pqe3",
        "outputId": "c040d4a5-3356-4044-e41e-aa5402496126"
      },
      "execution_count": 54,
      "outputs": [
        {
          "output_type": "display_data",
          "data": {
            "text/plain": [
              "<Figure size 800x500 with 1 Axes>"
            ],
            "image/png": "[encoded data removed]"
          },
          "metadata": {}
        }
      ]
    },
    {
      "cell_type": "code",
      "source": [
        "import pandas as pd\n",
        "\n",
        "# Load dataset\n",
        "csv_path = '/content/drive/MyDrive/WESAD_pkl/merged_file.csv'  # change if needed\n",
        "df = pd.read_csv(csv_path)\n",
        "\n",
        "# Count samples per class\n",
        "class_counts = df['Label'].value_counts()\n",
        "print(\"Before undersampling:\\n\", class_counts)\n",
        "\n",
        "# Get count of class 2\n",
        "class_2_count = class_counts[2]\n",
        "\n",
        "# Split classes\n",
        "class_1_df = df[df['Label'] == 1]\n",
        "class_2_df = df[df['Label'] == 2]\n",
        "class_3_df = df[df['Label'] == 3]\n",
        "class_4_df = df[df['Label'] == 4]\n",
        "\n",
        "# Undersample class 1\n",
        "class_1_undersampled = class_1_df.sample(n=class_2_count, random_state=42)\n",
        "class_4_undersampled=class_4_df.sample(n=class_2_count,random_state=42)\n",
        "\n",
        "# Combine balanced dataset (1 and 2 are balanced, 3 and 4 are left untouched)\n",
        "balanced_df = pd.concat([class_1_undersampled, class_2_df,class_4_undersampled], ignore_index=True)\n",
        "\n",
        "# Shuffle the rows\n",
        "balanced_df = balanced_df.sample(frac=1, random_state=42).reset_index(drop=True)\n",
        "\n",
        "# Count samples after undersampling\n",
        "print(\"\\nAfter undersampling:\\n\", balanced_df['Label'].value_counts())\n",
        "\n",
        "# Save (optional)\n",
        "balanced_df.to_csv('/content/hrv_features_balanced.csv', index=False)\n",
        "print(\"\\n✅ Balanced dataset saved to /content/hrv_features_balanced.csv\")\n",
        "\n",
        "label_counts = balanced_df['Label'].value_counts().sort_index()\n",
        "\n",
        "\n",
        "# Plot\n",
        "plt.figure(figsize=(8, 5))\n",
        "label_counts.plot(kind='bar', color='skyblue', edgecolor='black')\n",
        "plt.xlabel('Class Label')\n",
        "plt.ylabel('Count')\n",
        "plt.title('Class Imbalance')\n",
        "plt.xticks(rotation=0)\n",
        "plt.grid(axis='y', linestyle='--', alpha=0.7)\n",
        "plt.show()"
      ],
      "metadata": {
        "colab": {
          "base_uri": "https://localhost:8080/",
          "height": 765
        },
        "id": "bTKaqSvKQdYH",
        "outputId": "b38745f9-e56d-4c1e-fe68-38dfe249cc5f"
      },
      "execution_count": 55,
      "outputs": [
        {
          "output_type": "stream",
          "name": "stdout",
          "text": [
            "Before undersampling:\n",
            " Label\n",
            "1    464\n",
            "4    295\n",
            "2    251\n",
            "3    137\n",
            "Name: count, dtype: int64\n",
            "\n",
            "After undersampling:\n",
            " Label\n",
            "4    251\n",
            "2    251\n",
            "1    251\n",
            "Name: count, dtype: int64\n",
            "\n",
            "✅ Balanced dataset saved to /content/hrv_features_balanced.csv\n"
          ]
        },
        {
          "output_type": "display_data",
          "data": {
            "text/plain": [
              "<Figure size 800x500 with 1 Axes>"
            ],
            "image/png": "[encoded data removed]"
          },
          "metadata": {}
        }
      ]
    },
    {
      "cell_type": "code",
      "source": [
        "import pandas as pd\n",
        "from sklearn.ensemble import RandomForestClassifier\n",
        "from sklearn.metrics import classification_report, confusion_matrix\n",
        "from sklearn.model_selection import train_test_split\n",
        "import matplotlib.pyplot as plt\n",
        "import seaborn as sns\n",
        "\n",
        "# Load the balanced dataset\n",
        "df = pd.read_csv('/content/merged_file.csv')\n",
        "\n",
        "# ✅ Optionally drop label 3 if it's still included\n",
        "df = df[df['Label'] != 3]\n",
        "\n",
        "# Separate features and label\n",
        "X = df.drop(columns=['Label'])\n",
        "y = df['Label']\n",
        "\n",
        "# Split into training and testing sets (80% train, 20% test)\n",
        "X_train, X_test, y_train, y_test = train_test_split(\n",
        "    X, y, test_size=0.2, random_state=42, stratify=y)\n",
        "\n",
        "# Initialize Random Forest\n",
        "clf = RandomForestClassifier(n_estimators=200, random_state=42, class_weight=\"balanced\")\n",
        "\n",
        "# Train on training data\n",
        "clf.fit(X_train, y_train)\n",
        "\n",
        "# Predict on test data\n",
        "y_pred = clf.predict(X_test)\n",
        "\n",
        "# Evaluation report\n",
        "print(\"Classification Report on Test Set:\\n\")\n",
        "print(classification_report(y_test, y_pred))\n",
        "\n",
        "# Confusion matrix\n",
        "cm = confusion_matrix(y_test, y_pred)\n",
        "plt.figure(figsize=(5, 4))\n",
        "sns.heatmap(cm, annot=True, fmt='d', cmap='Blues',\n",
        "            xticklabels=sorted(y.unique()), yticklabels=sorted(y.unique()))\n",
        "plt.xlabel('Predicted')\n",
        "plt.ylabel('True')\n",
        "plt.title('Confusion Matrix (Test Set)')\n",
        "plt.show()\n"
      ],
      "metadata": {
        "colab": {
          "base_uri": "https://localhost:8080/",
          "height": 618
        },
        "id": "vAlgNB8-QqVM",
        "outputId": "3e656c1c-f1e7-4e07-cb30-f7193a1e5265"
      },
      "execution_count": 61,
      "outputs": [
        {
          "output_type": "stream",
          "name": "stdout",
          "text": [
            "Classification Report on Test Set:\n",
            "\n",
            "              precision    recall  f1-score   support\n",
            "\n",
            "           1       0.66      0.82      0.73        93\n",
            "           2       0.73      0.64      0.68        50\n",
            "           4       0.67      0.47      0.55        59\n",
            "\n",
            "    accuracy                           0.67       202\n",
            "   macro avg       0.68      0.64      0.65       202\n",
            "weighted avg       0.68      0.67      0.67       202\n",
            "\n"
          ]
        },
        {
          "output_type": "display_data",
          "data": {
            "text/plain": [
              "<Figure size 500x400 with 2 Axes>"
            ],
            "image/png": "[encoded data removed]"
          },
          "metadata": {}
        }
      ]
    },
    {
      "cell_type": "code",
      "source": [
        "import joblib\n",
        "\n",
        "# Save the trained Random Forest model\n",
        "joblib.dump(clf, '/content/random_forest_hrv.pkl')\n",
        "print(\"✅ Model saved!\")\n"
      ],
      "metadata": {
        "colab": {
          "base_uri": "https://localhost:8080/"
        },
        "id": "wKXuwnWZRDd_",
        "outputId": "3775c0a7-1dca-41e2-9d9b-e9349a1223d4"
      },
      "execution_count": 31,
      "outputs": [
        {
          "output_type": "stream",
          "name": "stdout",
          "text": [
            "✅ Model saved!\n"
          ]
        }
      ]
    },
    {
      "cell_type": "code",
      "source": [
        "import pandas as pd\n",
        "import joblib\n",
        "\n",
        "# Load trained model\n",
        "#clf = joblib.load('/content/random_forest_hrv.pkl')\n",
        "\n",
        "# Load left-out subject features\n",
        "test_df = pd.read_csv('/content/hrv_features_labeled_S16.csv')# <- change S11 to your left-out subject\n",
        "test_df=test_df[test_df['Label'] != 3]\n",
        "\n",
        "# Separate features and true labels\n",
        "X_test = test_df.drop(columns=['Label'])\n",
        "y_true = test_df['Label']\n",
        "\n",
        "# Predict\n",
        "y_pred = clf.predict(X_test)\n",
        "\n",
        "# Create a DataFrame with true labels and predicted labels\n",
        "result_df = pd.DataFrame({\n",
        "    'True_Label': y_true,\n",
        "    'Predicted_Label': y_pred\n",
        "})\n",
        "\n",
        "# Save to CSV file\n",
        "result_df.to_csv('/content/predictions_results.csv', index=False)\n",
        "\n",
        "# Optional: Classification report\n",
        "from sklearn.metrics import classification_report\n",
        "print(\"\\n\", classification_report(y_true, y_pred))\n"
      ],
      "metadata": {
        "colab": {
          "base_uri": "https://localhost:8080/"
        },
        "id": "hPPCZLPiQstZ",
        "outputId": "8d9e808b-dedc-4f2a-8571-08bee598f117"
      },
      "execution_count": 64,
      "outputs": [
        {
          "output_type": "stream",
          "name": "stdout",
          "text": [
            "\n",
            "               precision    recall  f1-score   support\n",
            "\n",
            "           1       0.77      0.44      0.56        39\n",
            "           2       0.78      1.00      0.88        21\n",
            "           4       0.37      0.54      0.44        24\n",
            "\n",
            "    accuracy                           0.61        84\n",
            "   macro avg       0.64      0.66      0.62        84\n",
            "weighted avg       0.66      0.61      0.60        84\n",
            "\n"
          ]
        }
      ]
    },
    {
      "cell_type": "code",
      "source": [
        "import pandas as pd\n",
        "from sklearn.ensemble import RandomForestClassifier\n",
        "import joblib\n",
        "\n",
        "# Load full dataset\n",
        "df = pd.read_csv('/content/merged_file.csv')\n",
        "\n",
        "# Drop label 3 if it's still present\n",
        "df = df[df['Label'] != 3]\n",
        "\n",
        "# Convert to binary stress label\n",
        "df['BinaryLabel'] = df['Label'].apply(lambda x: 1 if x == 2 else 0)\n",
        "\n",
        "# Separate features and target\n",
        "X = df.drop(columns=['BinaryLabel'])  # make sure SubjectID is excluded\n",
        "y = df['BinaryLabel']\n",
        "\n",
        "# Train Random Forest on full data\n",
        "clf = RandomForestClassifier(n_estimators=200, class_weight=\"balanced\", random_state=42)\n",
        "clf.fit(X, y)\n",
        "\n",
        "# Save model\n",
        "joblib.dump(clf, 'stress_rf_model.pkl')\n",
        "print(\"Model saved as 'stress_rf_model.pkl'\")\n"
      ],
      "metadata": {
        "colab": {
          "base_uri": "https://localhost:8080/"
        },
        "id": "r4xLpZ0JXuzo",
        "outputId": "4ad47be0-4feb-48cd-eefb-309ff2e1dcba"
      },
      "execution_count": 94,
      "outputs": [
        {
          "output_type": "stream",
          "name": "stdout",
          "text": [
            "Model saved as 'stress_rf_model.pkl'\n"
          ]
        }
      ]
    },
    {
      "cell_type": "code",
      "source": [
        "print(df['BinaryLabel'].value_counts())\n"
      ],
      "metadata": {
        "colab": {
          "base_uri": "https://localhost:8080/"
        },
        "id": "r3Y2DfGxaYLk",
        "outputId": "ca4f7871-fee6-477e-f235-29b8bdb03279"
      },
      "execution_count": 86,
      "outputs": [
        {
          "output_type": "stream",
          "name": "stdout",
          "text": [
            "BinaryLabel\n",
            "0    759\n",
            "1    251\n",
            "Name: count, dtype: int64\n"
          ]
        }
      ]
    },
    {
      "cell_type": "code",
      "source": [
        "import pandas as pd\n",
        "import joblib\n",
        "from sklearn.metrics import classification_report\n",
        "\n",
        "# Load trained model\n",
        "clf = joblib.load('/content/stress_rf_model.pkl')\n",
        "\n",
        "# Load left-out subject features\n",
        "test_df = pd.read_csv('/content/hrv_features_labeled_S15.csv')  # Change 'S16' to your left-out subject ID\n",
        "test_df = test_df[test_df['Label'] != 3]  # Optionally drop label 3 if it exists\n",
        "\n",
        "# Convert to binary: 1 = stress, 0 = no stress\n",
        "test_df['BinaryLabel'] = test_df['Label'].apply(lambda x: 1 if x == 2 else 0)\n",
        "\n",
        "# Separate features and true labels\n",
        "X_test = test_df.drop(columns=['BinaryLabel'])  # Only drop 'BinaryLabel', but keep 'Label'\n",
        "y_true = test_df['BinaryLabel']\n",
        "\n",
        "# Predict using the trained model\n",
        "y_pred = clf.predict(X_test)\n",
        "\n",
        "# Create a DataFrame with true labels and predicted labels\n",
        "result_df = pd.DataFrame({\n",
        "    'True_Label': y_true,\n",
        "    'Predicted_Label': y_pred\n",
        "})\n",
        "\n",
        "# Save the results to a CSV file\n",
        "result_df.to_csv('/content/predictions_results.csv', index=False)\n",
        "\n",
        "# Optional: Print the classification report\n",
        "print(\"\\nClassification Report:\\n\", classification_report(y_true, y_pred))\n"
      ],
      "metadata": {
        "colab": {
          "base_uri": "https://localhost:8080/"
        },
        "id": "RUmb6_Q2YT-P",
        "outputId": "82e6e58f-9bb3-46f8-8885-3d89364e0081"
      },
      "execution_count": 97,
      "outputs": [
        {
          "output_type": "stream",
          "name": "stdout",
          "text": [
            "\n",
            "Classification Report:\n",
            "               precision    recall  f1-score   support\n",
            "\n",
            "           0       0.98      1.00      0.99        63\n",
            "           1       1.00      0.95      0.98        22\n",
            "\n",
            "    accuracy                           0.99        85\n",
            "   macro avg       0.99      0.98      0.98        85\n",
            "weighted avg       0.99      0.99      0.99        85\n",
            "\n"
          ]
        }
      ]
    }
  ]
}