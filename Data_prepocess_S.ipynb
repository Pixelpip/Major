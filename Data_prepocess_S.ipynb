{
  "nbformat": 4,
  "nbformat_minor": 0,
  "metadata": {
    "colab": {
      "provenance": []
    },
    "kernelspec": {
      "name": "python3",
      "display_name": "Python 3"
    },
    "language_info": {
      "name": "python"
    }
  },
  "cells": [
    {
      "cell_type": "code",
      "source": [
        "from google.colab import drive\n",
        "drive.mount('/content/drive')"
      ],
      "metadata": {
        "colab": {
          "base_uri": "https://localhost:8080/"
        },
        "id": "v58hYiVJHdLy",
        "outputId": "513e029a-2a9d-468f-fd90-15ad2880b69f"
      },
      "execution_count": null,
      "outputs": [
        {
          "output_type": "stream",
          "name": "stdout",
          "text": [
            "Drive already mounted at /content/drive; to attempt to forcibly remount, call drive.mount(\"/content/drive\", force_remount=True).\n"
          ]
        }
      ]
    },
    {
      "cell_type": "code",
      "source": [
        "!pip install neurokit2"
      ],
      "metadata": {
        "colab": {
          "base_uri": "https://localhost:8080/"
        },
        "id": "cdJEW2PNGe67",
        "outputId": "4b4f190d-9551-46ee-8dfa-ba8026ef549c"
      },
      "execution_count": null,
      "outputs": [
        {
          "output_type": "stream",
          "name": "stdout",
          "text": [
            "Requirement already satisfied: neurokit2 in /usr/local/lib/python3.11/dist-packages (0.2.10)\n",
            "Requirement already satisfied: requests in /usr/local/lib/python3.11/dist-packages (from neurokit2) (2.32.3)\n",
            "Requirement already satisfied: numpy in /usr/local/lib/python3.11/dist-packages (from neurokit2) (2.0.2)\n",
            "Requirement already satisfied: pandas in /usr/local/lib/python3.11/dist-packages (from neurokit2) (2.2.2)\n",
            "Requirement already satisfied: scipy in /usr/local/lib/python3.11/dist-packages (from neurokit2) (1.15.2)\n",
            "Requirement already satisfied: scikit-learn>=1.0.0 in /usr/local/lib/python3.11/dist-packages (from neurokit2) (1.6.1)\n",
            "Requirement already satisfied: matplotlib in /usr/local/lib/python3.11/dist-packages (from neurokit2) (3.10.0)\n",
            "Requirement already satisfied: joblib>=1.2.0 in /usr/local/lib/python3.11/dist-packages (from scikit-learn>=1.0.0->neurokit2) (1.4.2)\n",
            "Requirement already satisfied: threadpoolctl>=3.1.0 in /usr/local/lib/python3.11/dist-packages (from scikit-learn>=1.0.0->neurokit2) (3.6.0)\n",
            "Requirement already satisfied: contourpy>=1.0.1 in /usr/local/lib/python3.11/dist-packages (from matplotlib->neurokit2) (1.3.2)\n",
            "Requirement already satisfied: cycler>=0.10 in /usr/local/lib/python3.11/dist-packages (from matplotlib->neurokit2) (0.12.1)\n",
            "Requirement already satisfied: fonttools>=4.22.0 in /usr/local/lib/python3.11/dist-packages (from matplotlib->neurokit2) (4.57.0)\n",
            "Requirement already satisfied: kiwisolver>=1.3.1 in /usr/local/lib/python3.11/dist-packages (from matplotlib->neurokit2) (1.4.8)\n",
            "Requirement already satisfied: packaging>=20.0 in /usr/local/lib/python3.11/dist-packages (from matplotlib->neurokit2) (24.2)\n",
            "Requirement already satisfied: pillow>=8 in /usr/local/lib/python3.11/dist-packages (from matplotlib->neurokit2) (11.2.1)\n",
            "Requirement already satisfied: pyparsing>=2.3.1 in /usr/local/lib/python3.11/dist-packages (from matplotlib->neurokit2) (3.2.3)\n",
            "Requirement already satisfied: python-dateutil>=2.7 in /usr/local/lib/python3.11/dist-packages (from matplotlib->neurokit2) (2.9.0.post0)\n",
            "Requirement already satisfied: pytz>=2020.1 in /usr/local/lib/python3.11/dist-packages (from pandas->neurokit2) (2025.2)\n",
            "Requirement already satisfied: tzdata>=2022.7 in /usr/local/lib/python3.11/dist-packages (from pandas->neurokit2) (2025.2)\n",
            "Requirement already satisfied: charset-normalizer<4,>=2 in /usr/local/lib/python3.11/dist-packages (from requests->neurokit2) (3.4.1)\n",
            "Requirement already satisfied: idna<4,>=2.5 in /usr/local/lib/python3.11/dist-packages (from requests->neurokit2) (3.10)\n",
            "Requirement already satisfied: urllib3<3,>=1.21.1 in /usr/local/lib/python3.11/dist-packages (from requests->neurokit2) (2.4.0)\n",
            "Requirement already satisfied: certifi>=2017.4.17 in /usr/local/lib/python3.11/dist-packages (from requests->neurokit2) (2025.4.26)\n",
            "Requirement already satisfied: six>=1.5 in /usr/local/lib/python3.11/dist-packages (from python-dateutil>=2.7->matplotlib->neurokit2) (1.17.0)\n"
          ]
        }
      ]
    },
    {
      "cell_type": "code",
      "source": [
        "import pickle\n",
        "import pandas as pd\n",
        "import numpy as np\n",
        "import matplotlib.pyplot as plt\n",
        "import seaborn as sns\n",
        "import os\n",
        "# Load data\n",
        "pkl_file = '/content/drive/MyDrive/WESAD_pkl/S2.pkl'\n",
        "subject_id = os.path.basename(pkl_file).split('.')[0]\n",
        "with open(pkl_file, 'rb') as file:\n",
        "    data = pickle.load(file, encoding='latin1')\n",
        "\n",
        "# Extract ECG and labels\n",
        "ecg = data['signal']['chest']['ECG']  # shape (n_samples, 2)\n",
        "labels = data['label']                # shape (n_samples,)\n",
        "\n",
        "\n",
        "# to use the first colum from numpy array\n",
        "ecg_signal = ecg[:, 0]\n",
        "\n",
        "# Ensuring same length for DataFrame\n",
        "min_len = min(len(ecg_signal), len(labels))\n",
        "ecg_signal = ecg_signal[:min_len]\n",
        "labels = labels[:min_len]\n",
        "\n",
        "# Create DataFrame\n",
        "df = pd.DataFrame({\n",
        "    'ECG': ecg_signal,\n",
        "    'Label': labels\n",
        "})\n",
        "\n",
        "# Duration in seconds\n",
        "duration_seconds = len(ecg_signal) / 700\n",
        "print(f\"ECG Duration: {duration_seconds:.2f} seconds\")\n",
        "\n",
        "# Remove entries with labels 0, 5, 6, or 7\n",
        "filtered_df = df[~df['Label'].isin([0, 5, 6, 7])].reset_index(drop=True)\n",
        "\n",
        "# Check result\n",
        "print(filtered_df['Label'].unique())\n",
        "\n",
        "filtered_df.head()\n"
      ],
      "metadata": {
        "colab": {
          "base_uri": "https://localhost:8080/",
          "height": 241
        },
        "id": "pmki96o-BaA7",
        "outputId": "250d5060-b27c-4054-b5da-5cee40ef60ab",
        "collapsed": true
      },
      "execution_count": 2,
      "outputs": [
        {
          "output_type": "stream",
          "name": "stdout",
          "text": [
            "ECG Duration: 6079.00 seconds\n",
            "[1 2 4 3]\n"
          ]
        },
        {
          "output_type": "execute_result",
          "data": {
            "text/plain": [
              "        ECG  Label\n",
              "0  0.030945      1\n",
              "1  0.033646      1\n",
              "2  0.033005      1\n",
              "3  0.031815      1\n",
              "4  0.030350      1"
            ],
            "text/html": [
              "\n",
              "  <div id=\"df-5a12ebce-8e6c-4c96-9ecc-83bd885a04d0\" class=\"colab-df-container\">\n",
              "    <div>\n",
              "<style scoped>\n",
              "    .dataframe tbody tr th:only-of-type {\n",
              "        vertical-align: middle;\n",
              "    }\n",
              "\n",
              "    .dataframe tbody tr th {\n",
              "        vertical-align: top;\n",
              "    }\n",
              "\n",
              "    .dataframe thead th {\n",
              "        text-align: right;\n",
              "    }\n",
              "</style>\n",
              "<table border=\"1\" class=\"dataframe\">\n",
              "  <thead>\n",
              "    <tr style=\"text-align: right;\">\n",
              "      <th></th>\n",
              "      <th>ECG</th>\n",
              "      <th>Label</th>\n",
              "    </tr>\n",
              "  </thead>\n",
              "  <tbody>\n",
              "    <tr>\n",
              "      <th>0</th>\n",
              "      <td>0.030945</td>\n",
              "      <td>1</td>\n",
              "    </tr>\n",
              "    <tr>\n",
              "      <th>1</th>\n",
              "      <td>0.033646</td>\n",
              "      <td>1</td>\n",
              "    </tr>\n",
              "    <tr>\n",
              "      <th>2</th>\n",
              "      <td>0.033005</td>\n",
              "      <td>1</td>\n",
              "    </tr>\n",
              "    <tr>\n",
              "      <th>3</th>\n",
              "      <td>0.031815</td>\n",
              "      <td>1</td>\n",
              "    </tr>\n",
              "    <tr>\n",
              "      <th>4</th>\n",
              "      <td>0.030350</td>\n",
              "      <td>1</td>\n",
              "    </tr>\n",
              "  </tbody>\n",
              "</table>\n",
              "</div>\n",
              "    <div class=\"colab-df-buttons\">\n",
              "\n",
              "  <div class=\"colab-df-container\">\n",
              "    <button class=\"colab-df-convert\" onclick=\"convertToInteractive('df-5a12ebce-8e6c-4c96-9ecc-83bd885a04d0')\"\n",
              "            title=\"Convert this dataframe to an interactive table.\"\n",
              "            style=\"display:none;\">\n",
              "\n",
              "  <svg xmlns=\"http://www.w3.org/2000/svg\" height=\"24px\" viewBox=\"0 -960 960 960\">\n",
              "    <path d=\"M120-120v-720h720v720H120Zm60-500h600v-160H180v160Zm220 220h160v-160H400v160Zm0 220h160v-160H400v160ZM180-400h160v-160H180v160Zm440 0h160v-160H620v160ZM180-180h160v-160H180v160Zm440 0h160v-160H620v160Z\"/>\n",
              "  </svg>\n",
              "    </button>\n",
              "\n",
              "  <style>\n",
              "    .colab-df-container {\n",
              "      display:flex;\n",
              "      gap: 12px;\n",
              "    }\n",
              "\n",
              "    .colab-df-convert {\n",
              "      background-color: #E8F0FE;\n",
              "      border: none;\n",
              "      border-radius: 50%;\n",
              "      cursor: pointer;\n",
              "      display: none;\n",
              "      fill: #1967D2;\n",
              "      height: 32px;\n",
              "      padding: 0 0 0 0;\n",
              "      width: 32px;\n",
              "    }\n",
              "\n",
              "    .colab-df-convert:hover {\n",
              "      background-color: #E2EBFA;\n",
              "      box-shadow: 0px 1px 2px rgba(60, 64, 67, 0.3), 0px 1px 3px 1px rgba(60, 64, 67, 0.15);\n",
              "      fill: #174EA6;\n",
              "    }\n",
              "\n",
              "    .colab-df-buttons div {\n",
              "      margin-bottom: 4px;\n",
              "    }\n",
              "\n",
              "    [theme=dark] .colab-df-convert {\n",
              "      background-color: #3B4455;\n",
              "      fill: #D2E3FC;\n",
              "    }\n",
              "\n",
              "    [theme=dark] .colab-df-convert:hover {\n",
              "      background-color: #434B5C;\n",
              "      box-shadow: 0px 1px 3px 1px rgba(0, 0, 0, 0.15);\n",
              "      filter: drop-shadow(0px 1px 2px rgba(0, 0, 0, 0.3));\n",
              "      fill: #FFFFFF;\n",
              "    }\n",
              "  </style>\n",
              "\n",
              "    <script>\n",
              "      const buttonEl =\n",
              "        document.querySelector('#df-5a12ebce-8e6c-4c96-9ecc-83bd885a04d0 button.colab-df-convert');\n",
              "      buttonEl.style.display =\n",
              "        google.colab.kernel.accessAllowed ? 'block' : 'none';\n",
              "\n",
              "      async function convertToInteractive(key) {\n",
              "        const element = document.querySelector('#df-5a12ebce-8e6c-4c96-9ecc-83bd885a04d0');\n",
              "        const dataTable =\n",
              "          await google.colab.kernel.invokeFunction('convertToInteractive',\n",
              "                                                    [key], {});\n",
              "        if (!dataTable) return;\n",
              "\n",
              "        const docLinkHtml = 'Like what you see? Visit the ' +\n",
              "          '<a target=\"_blank\" href=https://colab.research.google.com/notebooks/data_table.ipynb>data table notebook</a>'\n",
              "          + ' to learn more about interactive tables.';\n",
              "        element.innerHTML = '';\n",
              "        dataTable['output_type'] = 'display_data';\n",
              "        await google.colab.output.renderOutput(dataTable, element);\n",
              "        const docLink = document.createElement('div');\n",
              "        docLink.innerHTML = docLinkHtml;\n",
              "        element.appendChild(docLink);\n",
              "      }\n",
              "    </script>\n",
              "  </div>\n",
              "\n",
              "\n",
              "    <div id=\"df-49fd22e0-9e64-4891-a5af-e363779667f7\">\n",
              "      <button class=\"colab-df-quickchart\" onclick=\"quickchart('df-49fd22e0-9e64-4891-a5af-e363779667f7')\"\n",
              "                title=\"Suggest charts\"\n",
              "                style=\"display:none;\">\n",
              "\n",
              "<svg xmlns=\"http://www.w3.org/2000/svg\" height=\"24px\"viewBox=\"0 0 24 24\"\n",
              "     width=\"24px\">\n",
              "    <g>\n",
              "        <path d=\"M19 3H5c-1.1 0-2 .9-2 2v14c0 1.1.9 2 2 2h14c1.1 0 2-.9 2-2V5c0-1.1-.9-2-2-2zM9 17H7v-7h2v7zm4 0h-2V7h2v10zm4 0h-2v-4h2v4z\"/>\n",
              "    </g>\n",
              "</svg>\n",
              "      </button>\n",
              "\n",
              "<style>\n",
              "  .colab-df-quickchart {\n",
              "      --bg-color: #E8F0FE;\n",
              "      --fill-color: #1967D2;\n",
              "      --hover-bg-color: #E2EBFA;\n",
              "      --hover-fill-color: #174EA6;\n",
              "      --disabled-fill-color: #AAA;\n",
              "      --disabled-bg-color: #DDD;\n",
              "  }\n",
              "\n",
              "  [theme=dark] .colab-df-quickchart {\n",
              "      --bg-color: #3B4455;\n",
              "      --fill-color: #D2E3FC;\n",
              "      --hover-bg-color: #434B5C;\n",
              "      --hover-fill-color: #FFFFFF;\n",
              "      --disabled-bg-color: #3B4455;\n",
              "      --disabled-fill-color: #666;\n",
              "  }\n",
              "\n",
              "  .colab-df-quickchart {\n",
              "    background-color: var(--bg-color);\n",
              "    border: none;\n",
              "    border-radius: 50%;\n",
              "    cursor: pointer;\n",
              "    display: none;\n",
              "    fill: var(--fill-color);\n",
              "    height: 32px;\n",
              "    padding: 0;\n",
              "    width: 32px;\n",
              "  }\n",
              "\n",
              "  .colab-df-quickchart:hover {\n",
              "    background-color: var(--hover-bg-color);\n",
              "    box-shadow: 0 1px 2px rgba(60, 64, 67, 0.3), 0 1px 3px 1px rgba(60, 64, 67, 0.15);\n",
              "    fill: var(--button-hover-fill-color);\n",
              "  }\n",
              "\n",
              "  .colab-df-quickchart-complete:disabled,\n",
              "  .colab-df-quickchart-complete:disabled:hover {\n",
              "    background-color: var(--disabled-bg-color);\n",
              "    fill: var(--disabled-fill-color);\n",
              "    box-shadow: none;\n",
              "  }\n",
              "\n",
              "  .colab-df-spinner {\n",
              "    border: 2px solid var(--fill-color);\n",
              "    border-color: transparent;\n",
              "    border-bottom-color: var(--fill-color);\n",
              "    animation:\n",
              "      spin 1s steps(1) infinite;\n",
              "  }\n",
              "\n",
              "  @keyframes spin {\n",
              "    0% {\n",
              "      border-color: transparent;\n",
              "      border-bottom-color: var(--fill-color);\n",
              "      border-left-color: var(--fill-color);\n",
              "    }\n",
              "    20% {\n",
              "      border-color: transparent;\n",
              "      border-left-color: var(--fill-color);\n",
              "      border-top-color: var(--fill-color);\n",
              "    }\n",
              "    30% {\n",
              "      border-color: transparent;\n",
              "      border-left-color: var(--fill-color);\n",
              "      border-top-color: var(--fill-color);\n",
              "      border-right-color: var(--fill-color);\n",
              "    }\n",
              "    40% {\n",
              "      border-color: transparent;\n",
              "      border-right-color: var(--fill-color);\n",
              "      border-top-color: var(--fill-color);\n",
              "    }\n",
              "    60% {\n",
              "      border-color: transparent;\n",
              "      border-right-color: var(--fill-color);\n",
              "    }\n",
              "    80% {\n",
              "      border-color: transparent;\n",
              "      border-right-color: var(--fill-color);\n",
              "      border-bottom-color: var(--fill-color);\n",
              "    }\n",
              "    90% {\n",
              "      border-color: transparent;\n",
              "      border-bottom-color: var(--fill-color);\n",
              "    }\n",
              "  }\n",
              "</style>\n",
              "\n",
              "      <script>\n",
              "        async function quickchart(key) {\n",
              "          const quickchartButtonEl =\n",
              "            document.querySelector('#' + key + ' button');\n",
              "          quickchartButtonEl.disabled = true;  // To prevent multiple clicks.\n",
              "          quickchartButtonEl.classList.add('colab-df-spinner');\n",
              "          try {\n",
              "            const charts = await google.colab.kernel.invokeFunction(\n",
              "                'suggestCharts', [key], {});\n",
              "          } catch (error) {\n",
              "            console.error('Error during call to suggestCharts:', error);\n",
              "          }\n",
              "          quickchartButtonEl.classList.remove('colab-df-spinner');\n",
              "          quickchartButtonEl.classList.add('colab-df-quickchart-complete');\n",
              "        }\n",
              "        (() => {\n",
              "          let quickchartButtonEl =\n",
              "            document.querySelector('#df-49fd22e0-9e64-4891-a5af-e363779667f7 button');\n",
              "          quickchartButtonEl.style.display =\n",
              "            google.colab.kernel.accessAllowed ? 'block' : 'none';\n",
              "        })();\n",
              "      </script>\n",
              "    </div>\n",
              "\n",
              "    </div>\n",
              "  </div>\n"
            ],
            "application/vnd.google.colaboratory.intrinsic+json": {
              "type": "dataframe",
              "variable_name": "filtered_df"
            }
          },
          "metadata": {},
          "execution_count": 2
        }
      ]
    },
    {
      "cell_type": "code",
      "source": [
        "\n",
        "import neurokit2 as nk\n",
        "import pandas as pd\n",
        "\n",
        "# 30 seconds of ECG at 700Hz\n",
        "sampling_rate = 700\n",
        "ecg_segment = filtered_df['ECG'].values[:30 * sampling_rate]\n",
        "\n",
        "# this processes ECG to detect peaks & clean the  signal\n",
        "signals, info = nk.ecg_process(ecg_segment, sampling_rate=sampling_rate)\n",
        "\n",
        "# Extracting HRV features\n",
        "hrv_features = nk.hrv_time(signals['ECG_R_Peaks'], sampling_rate=sampling_rate, show=False)\n",
        "print(hrv_features.T)\n",
        "\n",
        "\n",
        "\n"
      ],
      "metadata": {
        "colab": {
          "base_uri": "https://localhost:8080/"
        },
        "id": "aDTcAX-1CyRz",
        "outputId": "2f76b2e7-3be8-4ebc-9bbf-3f6e4e40dddc"
      },
      "execution_count": null,
      "outputs": [
        {
          "output_type": "stream",
          "name": "stdout",
          "text": [
            "                        0\n",
            "HRV_MeanNN     734.761905\n",
            "HRV_SDNN       114.715514\n",
            "HRV_SDANN1            NaN\n",
            "HRV_SDNNI1            NaN\n",
            "HRV_SDANN2            NaN\n",
            "HRV_SDNNI2            NaN\n",
            "HRV_SDANN5            NaN\n",
            "HRV_SDNNI5            NaN\n",
            "HRV_RMSSD       72.781547\n",
            "HRV_SDSD        73.125991\n",
            "HRV_CVNN         0.156126\n",
            "HRV_CVSD         0.099055\n",
            "HRV_MedianNN   704.285714\n",
            "HRV_MadNN       84.720000\n",
            "HRV_MCVNN        0.120292\n",
            "HRV_IQRNN      126.428571\n",
            "HRV_SDRMSSD      1.576162\n",
            "HRV_Prc20NN    649.714286\n",
            "HRV_Prc80NN    820.571429\n",
            "HRV_pNN50       23.076923\n",
            "HRV_pNN20       64.102564\n",
            "HRV_MinNN      594.285714\n",
            "HRV_MaxNN     1058.571429\n",
            "HRV_HTI          7.800000\n",
            "HRV_TINN        85.937500\n"
          ]
        }
      ]
    },
    {
      "cell_type": "code",
      "source": [
        "import neurokit2 as nk\n",
        "import pandas as pd\n",
        "import numpy as np\n",
        "from tqdm import tqdm\n",
        "\n",
        "# Constants\n",
        "sampling_rate = 700\n",
        "window_duration = 30  # seconds\n",
        "window_size = sampling_rate * window_duration\n",
        "\n",
        "# Store HRV feature rows\n",
        "feature_rows = []\n",
        "\n",
        "# Iterate over non-overlapping 30-second windows\n",
        "for start in tqdm(range(0, len(filtered_df) - window_size, window_size)):\n",
        "    end = start + window_size\n",
        "    ecg_window = filtered_df['ECG'].values[start:end]\n",
        "    label_window = filtered_df['Label'].values[start:end]\n",
        "\n",
        "    # Skip if multiple labels in window\n",
        "    if len(np.unique(label_window)) > 1:\n",
        "        continue\n",
        "\n",
        "    label = label_window[0]\n",
        "\n",
        "    try:\n",
        "        # Process ECG to get R-peaks\n",
        "        signals, info = nk.ecg_process(ecg_window, sampling_rate=sampling_rate)\n",
        "\n",
        "        # Extracting HRV time domain features\n",
        "        hrv_features = nk.hrv_time(signals['ECG_R_Peaks'], sampling_rate=sampling_rate, show=False)\n",
        "\n",
        "        # Add label\n",
        "        hrv_features['Label'] = label\n",
        "\n",
        "        # Save\n",
        "        feature_rows.append(hrv_features)\n",
        "\n",
        "    except Exception:\n",
        "        continue  # skip faulty segments\n",
        "\n",
        "# Combine all features\n",
        "hrv_dataset = pd.concat(feature_rows, ignore_index=True)\n",
        "\n",
        "# Drop columns that are completely NaN\n",
        "hrv_dataset.dropna(axis=1, how='all', inplace=True)\n",
        "\n",
        "# Save to CSV\n",
        "output_path = f\"/content/hrv_features_labeled_{subject_id}.csv\"\n",
        "hrv_dataset.to_csv(output_path, index=False)\n",
        "\n",
        "print(f\"HRV feature dataset saved to: {output_path}\")\n"
      ],
      "metadata": {
        "colab": {
          "base_uri": "https://localhost:8080/"
        },
        "id": "tEREBg1yEMXB",
        "outputId": "55ecf079-00b7-4654-ddc5-2ca6ca6d731b"
      },
      "execution_count": null,
      "outputs": [
        {
          "output_type": "stream",
          "name": "stderr",
          "text": [
            "100%|██████████| 100/100 [00:40<00:00,  2.46it/s]"
          ]
        },
        {
          "output_type": "stream",
          "name": "stdout",
          "text": [
            "✅ HRV feature dataset saved to: /content/hrv_features_labeled_S17.csv\n"
          ]
        },
        {
          "output_type": "stream",
          "name": "stderr",
          "text": [
            "\n"
          ]
        }
      ]
    },
    {
      "cell_type": "code",
      "source": [
        "import pandas as pd\n",
        "\n",
        "# Read the CSV files\n",
        "df1 = pd.read_csv(\"/content/hrv_features_labeled_S2.csv\")\n",
        "df2 =pd.read_csv(\"/content/hrv_features_labeled_S3.csv\")\n",
        "df3 = pd.read_csv(\"/content/hrv_features_labeled_S4.csv\")\n",
        "df4 = pd.read_csv(\"/content/hrv_features_labeled_S5.csv\")\n",
        "df5 = pd.read_csv(\"/content/hrv_features_labeled_S6.csv\")\n",
        "df6 = pd.read_csv(\"/content/hrv_features_labeled_S7.csv\")\n",
        "df7 = pd.read_csv(\"/content/hrv_features_labeled_S8.csv\")\n",
        "df8 = pd.read_csv(\"/content/hrv_features_labeled_S9.csv\")\n",
        "df9 = pd.read_csv(\"/content/hrv_features_labeled_S10.csv\")\n",
        "df10 = pd.read_csv(\"/content/hrv_features_labeled_S11.csv\")\n",
        "df11 = pd.read_csv(\"/content/hrv_features_labeled_S13.csv\")\n",
        "df12 = pd.read_csv(\"/content/hrv_features_labeled_S14.csv\")\n",
        "#df13 = pd.read_csv(\"/content/hrv_features_labeled_S15.csv\") #subject 15,16,17 were left out from training and will be used only as test subject\n",
        "#df14 = pd.read_csv(\"/content/hrv_features_labeled_S16.csv\")\n",
        "#df15 = pd.read_csv(\"/content/hrv_features_labeled_S17.csv\")\n",
        "merged_df = pd.concat([df1, df2,df3,df4,df5,df6,df7,df8,df9,df10,df11,df12], ignore_index=True)\n",
        "\n",
        "# Write the merged data to a new CSV file\n",
        "merged_df.to_csv('merged_file.csv', index=False)\n"
      ],
      "metadata": {
        "id": "spk0Eu4AOHWg"
      },
      "execution_count": null,
      "outputs": []
    },
    {
      "cell_type": "code",
      "source": [
        "import pandas as pd\n",
        "import matplotlib.pyplot as plt\n",
        "\n",
        "# Loading HRV features CSV file\n",
        "csv_path = '/content/drive/MyDrive/WESAD_pkl/ECG/merged_file.csv'\n",
        "df = pd.read_csv(csv_path)\n",
        "\n",
        "# label count prunt\n",
        "label_counts = df['Label'].value_counts().sort_index()\n",
        "\n",
        "print(label_counts)\n"
      ],
      "metadata": {
        "colab": {
          "base_uri": "https://localhost:8080/"
        },
        "id": "J71v12j6Pqe3",
        "outputId": "19974a64-7a3f-492b-b2c2-bebb735f3dda"
      },
      "execution_count": null,
      "outputs": [
        {
          "output_type": "stream",
          "name": "stdout",
          "text": [
            "Label\n",
            "1    464\n",
            "2    251\n",
            "3    137\n",
            "4    295\n",
            "Name: count, dtype: int64\n"
          ]
        }
      ]
    },
    {
      "cell_type": "code",
      "source": [
        "import pandas as pd\n",
        "\n",
        "# Load dataset\n",
        "csv_path = '/content/drive/MyDrive/WESAD_pkl/merged_file.csv'\n",
        "df = pd.read_csv(csv_path)\n",
        "\n",
        "# Count samples per class\n",
        "class_counts = df['Label'].value_counts()\n",
        "print(\"Before undersampling:\\n\", class_counts)\n",
        "\n",
        "# Get count of class 2\n",
        "class_2_count = class_counts[2]\n",
        "\n",
        "# Split classes\n",
        "class_1_df = df[df['Label'] == 1]\n",
        "class_2_df = df[df['Label'] == 2]\n",
        "class_3_df = df[df['Label'] == 3]\n",
        "class_4_df = df[df['Label'] == 4]\n",
        "\n",
        "# Undersample class 1\n",
        "class_1_undersampled = class_1_df.sample(n=class_2_count, random_state=42)\n",
        "class_4_undersampled=class_4_df.sample(n=class_2_count,random_state=42)\n",
        "\n",
        "# Combine balanced dataset (1 and 2 are balanced, 3 and 4 are left untouched)\n",
        "balanced_df = pd.concat([class_1_undersampled, class_2_df,class_4_undersampled], ignore_index=True)\n",
        "\n",
        "# Shuffle the rows\n",
        "balanced_df = balanced_df.sample(frac=1, random_state=42).reset_index(drop=True)\n",
        "\n",
        "# Count samples after undersampling\n",
        "print(\"\\nAfter undersampling:\\n\", balanced_df['Label'].value_counts())\n",
        "\n",
        "# Save (optional)\n",
        "balanced_df.to_csv('/content/hrv_features_balanced.csv', index=False)\n",
        "print(\"\\nBalanced dataset saved to /content/hrv_features_balanced.csv\")\n",
        "\n",
        "label_counts = balanced_df['Label'].value_counts().sort_index()\n",
        "\n"
      ],
      "metadata": {
        "id": "bTKaqSvKQdYH"
      },
      "execution_count": null,
      "outputs": []
    },
    {
      "cell_type": "code",
      "source": [
        "import pandas as pd\n",
        "from sklearn.ensemble import RandomForestClassifier\n",
        "from sklearn.metrics import classification_report, confusion_matrix\n",
        "from sklearn.model_selection import train_test_split\n",
        "import matplotlib.pyplot as plt\n",
        "import seaborn as sns\n",
        "\n",
        "# Load the balanced dataset\n",
        "df = pd.read_csv('/content/merged_file.csv')\n",
        "\n",
        "# Optionally drop label 3 if it's still included\n",
        "df = df[df['Label'] != 3]\n",
        "\n",
        "# Separate features and label\n",
        "X = df.drop(columns=['Label'])\n",
        "y = df['Label']\n",
        "\n",
        "# Split into training and testing sets (80% train, 20% test)\n",
        "X_train, X_test, y_train, y_test = train_test_split(\n",
        "    X, y, test_size=0.2, random_state=42, stratify=y)\n",
        "\n",
        "# Initialize Random Forest\n",
        "clf = RandomForestClassifier(n_estimators=200, random_state=42, class_weight=\"balanced\")\n",
        "\n",
        "# Train on training data\n",
        "clf.fit(X_train, y_train)\n",
        "\n",
        "# Predict on test data\n",
        "y_pred = clf.predict(X_test)\n",
        "\n",
        "# Evaluation report\n",
        "print(\"Classification Report on Test Set:\\n\")\n",
        "print(classification_report(y_test, y_pred))\n",
        "\n",
        "# Confusion matrix\n",
        "cm = confusion_matrix(y_test, y_pred)\n",
        "plt.figure(figsize=(5, 4))\n",
        "sns.heatmap(cm, annot=True, fmt='d', cmap='Blues',\n",
        "            xticklabels=sorted(y.unique()), yticklabels=sorted(y.unique()))\n",
        "plt.xlabel('Predicted')\n",
        "plt.ylabel('True')\n",
        "plt.title('Confusion Matrix (Test Set)')\n",
        "plt.show()\n"
      ],
      "metadata": {
        "colab": {
          "base_uri": "https://localhost:8080/",
          "height": 618
        },
        "id": "vAlgNB8-QqVM",
        "outputId": "3e656c1c-f1e7-4e07-cb30-f7193a1e5265"
      },
      "execution_count": null,
      "outputs": [
        {
          "output_type": "stream",
          "name": "stdout",
          "text": [
            "Classification Report on Test Set:\n",
            "\n",
            "              precision    recall  f1-score   support\n",
            "\n",
            "           1       0.66      0.82      0.73        93\n",
            "           2       0.73      0.64      0.68        50\n",
            "           4       0.67      0.47      0.55        59\n",
            "\n",
            "    accuracy                           0.67       202\n",
            "   macro avg       0.68      0.64      0.65       202\n",
            "weighted avg       0.68      0.67      0.67       202\n",
            "\n"
          ]
        },
        {
          "output_type": "display_data",
          "data": {
            "text/plain": [
              "<Figure size 500x400 with 2 Axes>"
            ],
            "image/png": "[encoded data removed]"
          },
          "metadata": {}
        }
      ]
    },
    {
      "cell_type": "code",
      "source": [
        "import joblib\n",
        "\n",
        "# Save the trained Random Forest model\n",
        "joblib.dump(clf, '/content/random_forest_hrv.pkl')\n",
        "print(\"Model saved!\")\n"
      ],
      "metadata": {
        "colab": {
          "base_uri": "https://localhost:8080/"
        },
        "id": "wKXuwnWZRDd_",
        "outputId": "3775c0a7-1dca-41e2-9d9b-e9349a1223d4"
      },
      "execution_count": null,
      "outputs": [
        {
          "output_type": "stream",
          "name": "stdout",
          "text": [
            "✅ Model saved!\n"
          ]
        }
      ]
    },
    {
      "cell_type": "code",
      "source": [
        "import pandas as pd\n",
        "import joblib\n",
        "\n",
        "# Load trained model\n",
        "#clf = joblib.load('/content/random_forest_hrv.pkl')\n",
        "\n",
        "# Load left-out subject features\n",
        "test_df = pd.read_csv('/content/hrv_features_labeled_S16.csv')# <- change S11 to your left-out subject\n",
        "test_df=test_df[test_df['Label'] != 3]\n",
        "\n",
        "# Separate features and true labels\n",
        "X_test = test_df.drop(columns=['Label'])\n",
        "y_true = test_df['Label']\n",
        "\n",
        "# Predict\n",
        "y_pred = clf.predict(X_test)\n",
        "\n",
        "# Create a DataFrame with true labels and predicted labels\n",
        "result_df = pd.DataFrame({\n",
        "    'True_Label': y_true,\n",
        "    'Predicted_Label': y_pred\n",
        "})\n",
        "\n",
        "# Save to CSV file\n",
        "result_df.to_csv('/content/predictions_results.csv', index=False)\n",
        "\n",
        "# Optional: Classification report\n",
        "from sklearn.metrics import classification_report\n",
        "print(\"\\n\", classification_report(y_true, y_pred))\n"
      ],
      "metadata": {
        "colab": {
          "base_uri": "https://localhost:8080/"
        },
        "id": "hPPCZLPiQstZ",
        "outputId": "8d9e808b-dedc-4f2a-8571-08bee598f117"
      },
      "execution_count": null,
      "outputs": [
        {
          "output_type": "stream",
          "name": "stdout",
          "text": [
            "\n",
            "               precision    recall  f1-score   support\n",
            "\n",
            "           1       0.77      0.44      0.56        39\n",
            "           2       0.78      1.00      0.88        21\n",
            "           4       0.37      0.54      0.44        24\n",
            "\n",
            "    accuracy                           0.61        84\n",
            "   macro avg       0.64      0.66      0.62        84\n",
            "weighted avg       0.66      0.61      0.60        84\n",
            "\n"
          ]
        }
      ]
    },
    {
      "cell_type": "code",
      "source": [
        "import pandas as pd\n",
        "from sklearn.ensemble import RandomForestClassifier\n",
        "import joblib\n",
        "\n",
        "# Load full dataset\n",
        "df = pd.read_csv('/content/drive/MyDrive/WESAD_pkl/ECG/merged_file.csv')\n",
        "\n",
        "# Drop label 3 if it's still present\n",
        "#df = df[df['Label'] != 3]\n",
        "\n",
        "# Convert to binary stress label\n",
        "df['BinaryLabel'] = df['Label'].apply(lambda x: 1 if x == 2 else 0)\n",
        "\n",
        "# Separate features and target\n",
        "X = df.drop(columns=['BinaryLabel'])  # make sure SubjectID is excluded\n",
        "y = df['BinaryLabel']\n",
        "\n",
        "# Train Random Forest on full data\n",
        "clf = RandomForestClassifier(n_estimators=200, class_weight=\"balanced\", random_state=42)\n",
        "clf.fit(X, y)\n",
        "\n",
        "# Save model\n",
        "joblib.dump(clf, 'stress_rf_model.pkl')\n",
        "print(\"Model saved as 'stress_rf_model.pkl'\")\n"
      ],
      "metadata": {
        "colab": {
          "base_uri": "https://localhost:8080/"
        },
        "id": "r4xLpZ0JXuzo",
        "outputId": "2baf7ea4-01e1-49b9-d84d-e095e6e191bb"
      },
      "execution_count": null,
      "outputs": [
        {
          "output_type": "stream",
          "name": "stdout",
          "text": [
            "Model saved as 'stress_rf_model.pkl'\n"
          ]
        }
      ]
    },
    {
      "cell_type": "code",
      "source": [
        "print(df['BinaryLabel'].value_counts())\n"
      ],
      "metadata": {
        "colab": {
          "base_uri": "https://localhost:8080/"
        },
        "id": "r3Y2DfGxaYLk",
        "outputId": "23d366f2-99d7-4c77-fd00-24e4d8c41538"
      },
      "execution_count": null,
      "outputs": [
        {
          "output_type": "stream",
          "name": "stdout",
          "text": [
            "BinaryLabel\n",
            "0    896\n",
            "1    251\n",
            "Name: count, dtype: int64\n"
          ]
        }
      ]
    },
    {
      "cell_type": "code",
      "source": [
        "import pandas as pd\n",
        "import joblib\n",
        "from sklearn.metrics import classification_report\n",
        "\n",
        "# Load trained model\n",
        "clf = joblib.load('/content/stress_rf_model.pkl')\n",
        "\n",
        "# Load left-out subject features\n",
        "test_df = pd.read_csv('/content/drive/MyDrive/WESAD_pkl/ECG/hrv_features_labeled_S15.csv')  # Change 'S16' to your left-out subject ID\n",
        "\n",
        "# Convert to binary: 1 = stress, 0 = no stress\n",
        "test_df['BinaryLabel'] = test_df['Label'].apply(lambda x: 1 if x == 2 else 0)\n",
        "\n",
        "# Separate features and true labels\n",
        "X_test = test_df.drop(columns=['BinaryLabel'])  # Only drop 'BinaryLabel', but keep 'Label'\n",
        "y_true = test_df['BinaryLabel']\n",
        "\n",
        "# Predict using the trained model\n",
        "y_pred = clf.predict(X_test)\n",
        "\n",
        "# Create a DataFrame with true labels and predicted labels\n",
        "result_df = pd.DataFrame({\n",
        "    'True_Label': y_true,\n",
        "    'Predicted_Label': y_pred\n",
        "})\n",
        "\n",
        "# Save the results to a CSV file\n",
        "result_df.to_csv('/content/predictions_results.csv', index=False)\n",
        "\n",
        "# Optional: Print the classification report\n",
        "print(\"\\nClassification Report:\\n\", classification_report(y_true, y_pred))\n"
      ],
      "metadata": {
        "colab": {
          "base_uri": "https://localhost:8080/"
        },
        "id": "RUmb6_Q2YT-P",
        "outputId": "c753f9c3-45f3-41fa-a0be-68455a954b48"
      },
      "execution_count": null,
      "outputs": [
        {
          "output_type": "stream",
          "name": "stdout",
          "text": [
            "\n",
            "Classification Report:\n",
            "               precision    recall  f1-score   support\n",
            "\n",
            "           0       0.99      1.00      0.99        74\n",
            "           1       1.00      0.95      0.98        22\n",
            "\n",
            "    accuracy                           0.99        96\n",
            "   macro avg       0.99      0.98      0.99        96\n",
            "weighted avg       0.99      0.99      0.99        96\n",
            "\n"
          ]
        }
      ]
    },
    {
      "cell_type": "code",
      "source": [
        "import pandas as pd\n",
        "from sklearn.svm import SVC\n",
        "from sklearn.preprocessing import StandardScaler\n",
        "from sklearn.pipeline import Pipeline\n",
        "import joblib\n",
        "\n",
        "# Load dataset\n",
        "df = pd.read_csv('/content/drive/MyDrive/WESAD_pkl/ECG/merged_file.csv')\n",
        "\n",
        "\n",
        "# Create binary labels\n",
        "df['BinaryLabel'] = df['Label'].apply(lambda x: 1 if x == 2 else 0)\n",
        "\n",
        "# Separate features and labels\n",
        "X = df.drop(columns=['BinaryLabel', 'Label'])  # Ensure SubjectID and Label are not included\n",
        "y = df['BinaryLabel']\n",
        "\n",
        "# Create a pipeline with scaling + SVM (RBF kernel by default)\n",
        "svm_pipeline = Pipeline([\n",
        "    ('scaler', StandardScaler()),\n",
        "    ('svm', SVC(kernel='rbf', C=1.0, class_weight='balanced', probability=True, random_state=42))\n",
        "])\n",
        "\n",
        "# Train the model\n",
        "svm_pipeline.fit(X, y)\n",
        "\n",
        "# Save the trained model\n",
        "joblib.dump(svm_pipeline, 'stress_svm_model.pkl')\n",
        "print(\"SVM model saved as 'stress_svm_model.pkl'\")\n"
      ],
      "metadata": {
        "colab": {
          "base_uri": "https://localhost:8080/"
        },
        "id": "zBRDloSKOCEh",
        "outputId": "c3bde540-b5b3-4eb7-ae2a-a707bce6d106"
      },
      "execution_count": null,
      "outputs": [
        {
          "output_type": "stream",
          "name": "stdout",
          "text": [
            "SVM model saved as 'stress_svm_model.pkl'\n"
          ]
        }
      ]
    },
    {
      "cell_type": "code",
      "source": [
        "import pandas as pd\n",
        "import joblib\n",
        "from sklearn.metrics import classification_report\n",
        "\n",
        "# Load the trained SVM model (which includes scaling in the pipeline)\n",
        "svm_model = joblib.load('/content/stress_svm_model.pkl')\n",
        "\n",
        "# Load the left-out subject's features\n",
        "test_df = pd.read_csv('/content/drive/MyDrive/WESAD_pkl/ECG/hrv_features_labeled_S17.csv')  # Update subject ID as needed\n",
        "\n",
        "# Convert to binary labels: 1 = stress, 0 = no stress\n",
        "test_df['BinaryLabel'] = test_df['Label'].apply(lambda x: 1 if x == 2 else 0)\n",
        "\n",
        "# Separate features and target\n",
        "X_test = test_df.drop(columns=['BinaryLabel', 'Label'])  # Keep only actual feature columns\n",
        "y_true = test_df['BinaryLabel']\n",
        "\n",
        "# Predict using the trained SVM model\n",
        "y_pred = svm_model.predict(X_test)\n",
        "\n",
        "# Create a DataFrame with true and predicted labels\n",
        "result_df = pd.DataFrame({\n",
        "    'True_Label': y_true,\n",
        "    'Predicted_Label': y_pred\n",
        "})\n",
        "\n",
        "# Save predictions to a CSV\n",
        "result_df.to_csv('/content/predictions_svm_results.csv', index=False)\n",
        "\n",
        "# Print the classification report\n",
        "print(\"\\nClassification Report:\\n\", classification_report(y_true, y_pred))\n"
      ],
      "metadata": {
        "colab": {
          "base_uri": "https://localhost:8080/"
        },
        "id": "xJMd2WJpORpM",
        "outputId": "e490753f-cf05-47a6-8840-b0a4485bac01"
      },
      "execution_count": null,
      "outputs": [
        {
          "output_type": "stream",
          "name": "stdout",
          "text": [
            "\n",
            "Classification Report:\n",
            "               precision    recall  f1-score   support\n",
            "\n",
            "           0       1.00      0.92      0.96        73\n",
            "           1       0.80      1.00      0.89        24\n",
            "\n",
            "    accuracy                           0.94        97\n",
            "   macro avg       0.90      0.96      0.92        97\n",
            "weighted avg       0.95      0.94      0.94        97\n",
            "\n"
          ]
        }
      ]
    },
    {
      "cell_type": "code",
      "source": [
        "import pandas as pd\n",
        "from sklearn.ensemble import RandomForestClassifier\n",
        "import joblib\n",
        "\n",
        "# Load full dataset\n",
        "df = pd.read_csv('/content/drive/MyDrive/WESAD_pkl/ECG/merged_file.csv')\n",
        "\n",
        "# Drop label 3 if it's still present\n",
        "#df = df[df['Label'] != 3]\n",
        "\n",
        "# Convert to binary stress label\n",
        "df['BinaryLabel'] = df['Label'].apply(lambda x: 1 if x == 2 else 0)\n",
        "\n",
        "# Separate features and target\n",
        "X = df.drop(columns=['BinaryLabel'])  # make sure SubjectID is excluded\n",
        "y = df['BinaryLabel']\n",
        "\n",
        "# Train Random Forest on full data\n",
        "clf = RandomForestClassifier(n_estimators=200, class_weight=\"balanced\", random_state=42)\n",
        "clf.fit(X, y)\n",
        "\n",
        "# Check feature importance\n",
        "importances = clf.feature_importances_\n",
        "\n",
        "# Create a DataFrame to display feature importances\n",
        "feature_names = X.columns  # or list of feature names if not a DataFrame\n",
        "importance_df = pd.DataFrame({'Feature': feature_names, 'Importance': importances})\n",
        "importance_df = importance_df.sort_values(by='Importance', ascending=False)\n",
        "\n",
        "print(\"Feature Importance:\")\n",
        "print(importance_df)\n",
        "\n",
        "\n"
      ],
      "metadata": {
        "colab": {
          "base_uri": "https://localhost:8080/"
        },
        "id": "pkJv_Y0NRVsa",
        "outputId": "7fd16aa3-0dd3-480c-de57-24530024a7e4"
      },
      "execution_count": null,
      "outputs": [
        {
          "output_type": "stream",
          "name": "stdout",
          "text": [
            "Feature Importance:\n",
            "         Feature  Importance\n",
            "19         Label    0.301145\n",
            "15     HRV_MinNN    0.150778\n",
            "11   HRV_Prc20NN    0.130174\n",
            "0     HRV_MeanNN    0.095848\n",
            "6   HRV_MedianNN    0.057490\n",
            "12   HRV_Prc80NN    0.045890\n",
            "16     HRV_MaxNN    0.035034\n",
            "10   HRV_SDRMSSD    0.019714\n",
            "14     HRV_pNN20    0.016366\n",
            "4       HRV_CVNN    0.015966\n",
            "9      HRV_IQRNN    0.015501\n",
            "8      HRV_MCVNN    0.015094\n",
            "3       HRV_SDSD    0.014301\n",
            "2      HRV_RMSSD    0.013827\n",
            "13     HRV_pNN50    0.013730\n",
            "5       HRV_CVSD    0.013187\n",
            "1       HRV_SDNN    0.012815\n",
            "7      HRV_MadNN    0.012726\n",
            "17       HRV_HTI    0.011413\n",
            "18      HRV_TINN    0.009000\n"
          ]
        }
      ]
    },
    {
      "cell_type": "code",
      "source": [
        "# Define features to drop based on their importance (e.g., those with importance < 0.01)\n",
        "features_to_drop = ['HRV_HTI', 'HRV_TINN']\n",
        "\n",
        "# Drop these features from the dataset\n",
        "X_filtered = X.drop(columns=features_to_drop)\n",
        "\n",
        "# Re-train the model with the reduced feature set\n",
        "clf_filtered = RandomForestClassifier(n_estimators=200, class_weight=\"balanced\", random_state=42)\n",
        "clf_filtered.fit(X_filtered, y)\n",
        "\n",
        "# Check feature importance again\n",
        "importances_filtered = clf_filtered.feature_importances_\n",
        "\n",
        "# Create a DataFrame to display feature importances\n",
        "importance_df_filtered = pd.DataFrame({'Feature': X_filtered.columns, 'Importance': importances_filtered})\n",
        "importance_df_filtered = importance_df_filtered.sort_values(by='Importance', ascending=False)\n",
        "\n",
        "print(\"Filtered Feature Importance:\")\n",
        "print(importance_df_filtered)\n",
        "\n",
        "# Save the updated model\n",
        "joblib.dump(clf_filtered, 'stress_rf_model_filtered.pkl')\n",
        "print(\"Filtered model saved as 'stress_rf_model_filtered.pkl'\")\n"
      ],
      "metadata": {
        "colab": {
          "base_uri": "https://localhost:8080/"
        },
        "id": "8JNmlvcrRiEm",
        "outputId": "b70d7249-c7ca-4661-a265-4d57ced57785"
      },
      "execution_count": null,
      "outputs": [
        {
          "output_type": "stream",
          "name": "stdout",
          "text": [
            "Filtered Feature Importance:\n",
            "         Feature  Importance\n",
            "17         Label    0.319990\n",
            "15     HRV_MinNN    0.143417\n",
            "0     HRV_MeanNN    0.108162\n",
            "11   HRV_Prc20NN    0.096158\n",
            "6   HRV_MedianNN    0.077586\n",
            "12   HRV_Prc80NN    0.048688\n",
            "16     HRV_MaxNN    0.032546\n",
            "14     HRV_pNN20    0.020852\n",
            "10   HRV_SDRMSSD    0.019107\n",
            "8      HRV_MCVNN    0.019060\n",
            "13     HRV_pNN50    0.015325\n",
            "2      HRV_RMSSD    0.015035\n",
            "9      HRV_IQRNN    0.014882\n",
            "3       HRV_SDSD    0.014549\n",
            "5       HRV_CVSD    0.014419\n",
            "1       HRV_SDNN    0.013765\n",
            "7      HRV_MadNN    0.013620\n",
            "4       HRV_CVNN    0.012840\n",
            "Filtered model saved as 'stress_rf_model_filtered.pkl'\n"
          ]
        }
      ]
    },
    {
      "cell_type": "code",
      "source": [
        "import pandas as pd\n",
        "import joblib\n",
        "from sklearn.metrics import classification_report\n",
        "\n",
        "# Load trained model\n",
        "clf = joblib.load('/content/stress_rf_model_filtered.pkl')\n",
        "\n",
        "# Load left-out subject features\n",
        "test_df = pd.read_csv('/content/drive/MyDrive/WESAD_pkl/ECG/hrv_features_labeled_S17.csv')  # Change 'S15' to your left-out subject ID\n",
        "\n",
        "# Convert to binary: 1 = stress, 0 = no stress\n",
        "test_df['BinaryLabel'] = test_df['Label'].apply(lambda x: 1 if x == 2 else 0)\n",
        "\n",
        "# Separate features and true labels\n",
        "X_test = test_df.drop(columns=['BinaryLabel'])  # Only drop 'BinaryLabel', but keep 'Label'\n",
        "y_true = test_df['BinaryLabel']\n",
        "\n",
        "# Drop unimportant features based on feature importance\n",
        "features_to_drop = ['HRV_HTI', 'HRV_TINN']  # Features with low importance from the earlier analysis\n",
        "X_test_filtered = X_test.drop(columns=features_to_drop)\n",
        "\n",
        "# Predict using the trained model (on filtered features)\n",
        "y_pred = clf.predict(X_test_filtered)\n",
        "\n",
        "# Create a DataFrame with true labels and predicted labels\n",
        "result_df = pd.DataFrame({\n",
        "    'True_Label': y_true,\n",
        "    'Predicted_Label': y_pred\n",
        "})\n",
        "\n",
        "# Save the results to a CSV file\n",
        "result_df.to_csv('/content/predictions_results_filtered.csv', index=False)\n",
        "\n",
        "# Optional: Print the classification report\n",
        "print(\"\\nClassification Report:\\n\", classification_report(y_true, y_pred))\n"
      ],
      "metadata": {
        "colab": {
          "base_uri": "https://localhost:8080/"
        },
        "id": "74LAZHQZRlpW",
        "outputId": "de36df22-c0ea-46b5-8a7d-ef2c64df9485"
      },
      "execution_count": null,
      "outputs": [
        {
          "output_type": "stream",
          "name": "stdout",
          "text": [
            "\n",
            "Classification Report:\n",
            "               precision    recall  f1-score   support\n",
            "\n",
            "           0       1.00      1.00      1.00        73\n",
            "           1       1.00      1.00      1.00        24\n",
            "\n",
            "    accuracy                           1.00        97\n",
            "   macro avg       1.00      1.00      1.00        97\n",
            "weighted avg       1.00      1.00      1.00        97\n",
            "\n"
          ]
        }
      ]
    }
  ]
}