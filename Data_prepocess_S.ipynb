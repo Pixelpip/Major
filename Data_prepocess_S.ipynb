{
  "nbformat": 4,
  "nbformat_minor": 0,
  "metadata": {
    "colab": {
      "provenance": [],
      "gpuType": "T4"
    },
    "kernelspec": {
      "name": "python3",
      "display_name": "Python 3"
    },
    "language_info": {
      "name": "python"
    },
    "accelerator": "GPU"
  },
  "cells": [
    {
      "cell_type": "code",
      "source": [
        "from google.colab import drive\n",
        "drive.mount('/content/drive')"
      ],
      "metadata": {
        "colab": {
          "base_uri": "https://localhost:8080/"
        },
        "id": "v58hYiVJHdLy",
        "outputId": "8a006b0b-61ea-4640-8546-9cbd0e9823e4"
      },
      "execution_count": 38,
      "outputs": [
        {
          "output_type": "stream",
          "name": "stdout",
          "text": [
            "Drive already mounted at /content/drive; to attempt to forcibly remount, call drive.mount(\"/content/drive\", force_remount=True).\n"
          ]
        }
      ]
    },
    {
      "cell_type": "code",
      "source": [
        "import pickle\n",
        "import pandas as pd\n",
        "import numpy as np\n",
        "import os\n",
        "# Load data\n",
        "pkl_file = '/content/drive/MyDrive/WESAD_pkl/S8.pkl'\n",
        "subject_id = os.path.basename(pkl_file).split('.')[0]\n",
        "with open(pkl_file, 'rb') as file:\n",
        "    data = pickle.load(file, encoding='latin1')\n",
        "\n",
        "# Extract ECG and labels\n",
        "ecg = data['signal']['chest']['ECG']  # shape (n_samples, 2)\n",
        "labels = data['label']                # shape (n_samples,)\n",
        "\n",
        "# Check shape\n",
        "print(\"ECG shape:\", ecg.shape)        # should be (5537, 2) or similar\n",
        "print(\"Labels shape:\", labels.shape)  # should be (same number of samples,)\n",
        "\n",
        "# Use just the first ECG channel (e.g., lead I)\n",
        "ecg_signal = ecg[:, 0]\n",
        "\n",
        "# Ensure same length for DataFrame (truncate if needed)\n",
        "min_len = min(len(ecg_signal), len(labels))\n",
        "ecg_signal = ecg_signal[:min_len]\n",
        "labels = labels[:min_len]\n",
        "\n",
        "# Create DataFrame\n",
        "df = pd.DataFrame({\n",
        "    'ECG': ecg_signal,\n",
        "    'Label': labels\n",
        "})\n",
        "\n",
        "# Duration in seconds\n",
        "duration_seconds = len(ecg_signal) / 700\n",
        "print(f\"ECG Duration: {duration_seconds:.2f} seconds\")\n",
        "\n",
        "# Remove entries with labels 0, 5, 6, or 7\n",
        "filtered_df = df[~df['Label'].isin([0, 5, 6, 7])].reset_index(drop=True)\n",
        "\n",
        "# Check result\n",
        "print(filtered_df['Label'].unique())\n",
        "print(filtered_df.shape)\n"
      ],
      "metadata": {
        "colab": {
          "base_uri": "https://localhost:8080/"
        },
        "id": "pmki96o-BaA7",
        "outputId": "fe821daa-affc-4cda-c575-f8cfcdc7a397"
      },
      "execution_count": 21,
      "outputs": [
        {
          "output_type": "stream",
          "name": "stdout",
          "text": [
            "ECG shape: (3826200, 1)\n",
            "Labels shape: (3826200,)\n",
            "ECG Duration: 5466.00 seconds\n",
            "[1 3 4 2]\n",
            "(2103499, 2)\n"
          ]
        }
      ]
    },
    {
      "cell_type": "code",
      "source": [
        "!pip install neurokit2"
      ],
      "metadata": {
        "colab": {
          "base_uri": "https://localhost:8080/"
        },
        "id": "cdJEW2PNGe67",
        "outputId": "5a6a2ffd-a06f-4caf-cb4d-8fa65d1b5f84"
      },
      "execution_count": 4,
      "outputs": [
        {
          "output_type": "stream",
          "name": "stdout",
          "text": [
            "Collecting neurokit2\n",
            "  Downloading neurokit2-0.2.10-py2.py3-none-any.whl.metadata (37 kB)\n",
            "Requirement already satisfied: requests in /usr/local/lib/python3.11/dist-packages (from neurokit2) (2.32.3)\n",
            "Requirement already satisfied: numpy in /usr/local/lib/python3.11/dist-packages (from neurokit2) (1.26.4)\n",
            "Requirement already satisfied: pandas in /usr/local/lib/python3.11/dist-packages (from neurokit2) (2.2.2)\n",
            "Requirement already satisfied: scipy in /usr/local/lib/python3.11/dist-packages (from neurokit2) (1.13.1)\n",
            "Requirement already satisfied: scikit-learn>=1.0.0 in /usr/local/lib/python3.11/dist-packages (from neurokit2) (1.6.1)\n",
            "Requirement already satisfied: matplotlib in /usr/local/lib/python3.11/dist-packages (from neurokit2) (3.10.0)\n",
            "Requirement already satisfied: joblib>=1.2.0 in /usr/local/lib/python3.11/dist-packages (from scikit-learn>=1.0.0->neurokit2) (1.4.2)\n",
            "Requirement already satisfied: threadpoolctl>=3.1.0 in /usr/local/lib/python3.11/dist-packages (from scikit-learn>=1.0.0->neurokit2) (3.5.0)\n",
            "Requirement already satisfied: contourpy>=1.0.1 in /usr/local/lib/python3.11/dist-packages (from matplotlib->neurokit2) (1.3.1)\n",
            "Requirement already satisfied: cycler>=0.10 in /usr/local/lib/python3.11/dist-packages (from matplotlib->neurokit2) (0.12.1)\n",
            "Requirement already satisfied: fonttools>=4.22.0 in /usr/local/lib/python3.11/dist-packages (from matplotlib->neurokit2) (4.56.0)\n",
            "Requirement already satisfied: kiwisolver>=1.3.1 in /usr/local/lib/python3.11/dist-packages (from matplotlib->neurokit2) (1.4.8)\n",
            "Requirement already satisfied: packaging>=20.0 in /usr/local/lib/python3.11/dist-packages (from matplotlib->neurokit2) (24.2)\n",
            "Requirement already satisfied: pillow>=8 in /usr/local/lib/python3.11/dist-packages (from matplotlib->neurokit2) (11.1.0)\n",
            "Requirement already satisfied: pyparsing>=2.3.1 in /usr/local/lib/python3.11/dist-packages (from matplotlib->neurokit2) (3.2.1)\n",
            "Requirement already satisfied: python-dateutil>=2.7 in /usr/local/lib/python3.11/dist-packages (from matplotlib->neurokit2) (2.8.2)\n",
            "Requirement already satisfied: pytz>=2020.1 in /usr/local/lib/python3.11/dist-packages (from pandas->neurokit2) (2025.1)\n",
            "Requirement already satisfied: tzdata>=2022.7 in /usr/local/lib/python3.11/dist-packages (from pandas->neurokit2) (2025.1)\n",
            "Requirement already satisfied: charset-normalizer<4,>=2 in /usr/local/lib/python3.11/dist-packages (from requests->neurokit2) (3.4.1)\n",
            "Requirement already satisfied: idna<4,>=2.5 in /usr/local/lib/python3.11/dist-packages (from requests->neurokit2) (3.10)\n",
            "Requirement already satisfied: urllib3<3,>=1.21.1 in /usr/local/lib/python3.11/dist-packages (from requests->neurokit2) (2.3.0)\n",
            "Requirement already satisfied: certifi>=2017.4.17 in /usr/local/lib/python3.11/dist-packages (from requests->neurokit2) (2025.1.31)\n",
            "Requirement already satisfied: six>=1.5 in /usr/local/lib/python3.11/dist-packages (from python-dateutil>=2.7->matplotlib->neurokit2) (1.17.0)\n",
            "Downloading neurokit2-0.2.10-py2.py3-none-any.whl (693 kB)\n",
            "\u001b[?25l   \u001b[90m━━━━━━━━━━━━━━━━━━━━━━━━━━━━━━━━━━━━━━━━\u001b[0m \u001b[32m0.0/693.1 kB\u001b[0m \u001b[31m?\u001b[0m eta \u001b[36m-:--:--\u001b[0m\r\u001b[2K   \u001b[90m━━━━━━━━━━━━━━━━━━━━━━━━━━━━━━━━━━━━━━━━\u001b[0m \u001b[32m693.1/693.1 kB\u001b[0m \u001b[31m23.3 MB/s\u001b[0m eta \u001b[36m0:00:00\u001b[0m\n",
            "\u001b[?25hInstalling collected packages: neurokit2\n",
            "Successfully installed neurokit2-0.2.10\n"
          ]
        }
      ]
    },
    {
      "cell_type": "code",
      "source": [
        "\n",
        "import neurokit2 as nk\n",
        "import pandas as pd\n",
        "\n",
        "# 30 seconds of ECG at 700Hz\n",
        "sampling_rate = 700\n",
        "ecg_segment = filtered_df['ECG'].values[:30 * sampling_rate]\n",
        "\n",
        "# 1. Process ECG to detect peaks & clean signal\n",
        "signals, info = nk.ecg_process(ecg_segment, sampling_rate=sampling_rate)\n",
        "\n",
        "# 2. Extract HRV features\n",
        "hrv_features = nk.hrv_time(signals['ECG_R_Peaks'], sampling_rate=sampling_rate, show=False)\n",
        "print(hrv_features.T)\n"
      ],
      "metadata": {
        "colab": {
          "base_uri": "https://localhost:8080/"
        },
        "id": "aDTcAX-1CyRz",
        "outputId": "a34686af-0130-4a81-daa9-bb5ee21f16d4"
      },
      "execution_count": 22,
      "outputs": [
        {
          "output_type": "stream",
          "name": "stdout",
          "text": [
            "                        0\n",
            "HRV_MeanNN     950.737327\n",
            "HRV_SDNN       128.873651\n",
            "HRV_SDANN1            NaN\n",
            "HRV_SDNNI1            NaN\n",
            "HRV_SDANN2            NaN\n",
            "HRV_SDNNI2            NaN\n",
            "HRV_SDANN5            NaN\n",
            "HRV_SDNNI5            NaN\n",
            "HRV_RMSSD      119.080376\n",
            "HRV_SDSD       120.861673\n",
            "HRV_CVNN         0.135551\n",
            "HRV_CVSD         0.125251\n",
            "HRV_MedianNN   958.571429\n",
            "HRV_MadNN      137.670000\n",
            "HRV_MCVNN        0.143620\n",
            "HRV_IQRNN      180.000000\n",
            "HRV_SDRMSSD      1.082241\n",
            "HRV_Prc20NN    858.571429\n",
            "HRV_Prc80NN   1070.000000\n",
            "HRV_pNN50       70.967742\n",
            "HRV_pNN20       87.096774\n",
            "HRV_MinNN      692.857143\n",
            "HRV_MaxNN     1174.285714\n",
            "HRV_HTI         10.333333\n",
            "HRV_TINN       304.687500\n"
          ]
        }
      ]
    },
    {
      "cell_type": "code",
      "source": [
        "import neurokit2 as nk\n",
        "import pandas as pd\n",
        "import numpy as np\n",
        "from tqdm import tqdm\n",
        "\n",
        "# Constants\n",
        "sampling_rate = 700\n",
        "window_duration = 30  # seconds\n",
        "window_size = sampling_rate * window_duration\n",
        "\n",
        "# Store HRV feature rows\n",
        "feature_rows = []\n",
        "\n",
        "# Iterate over non-overlapping 30-second windows\n",
        "for start in tqdm(range(0, len(filtered_df) - window_size, window_size)):\n",
        "    end = start + window_size\n",
        "    ecg_window = filtered_df['ECG'].values[start:end]\n",
        "    label_window = filtered_df['Label'].values[start:end]\n",
        "\n",
        "    # Skip if multiple labels in window\n",
        "    if len(np.unique(label_window)) > 1:\n",
        "        continue\n",
        "\n",
        "    label = label_window[0]\n",
        "\n",
        "    try:\n",
        "        # Step 1: Process ECG to get R-peaks\n",
        "        signals, info = nk.ecg_process(ecg_window, sampling_rate=sampling_rate)\n",
        "\n",
        "        # Step 2: Extract HRV time-domain features\n",
        "        hrv_features = nk.hrv_time(signals['ECG_R_Peaks'], sampling_rate=sampling_rate, show=False)\n",
        "\n",
        "        # Step 3: Attach label\n",
        "        hrv_features['Label'] = label\n",
        "\n",
        "        # Save\n",
        "        feature_rows.append(hrv_features)\n",
        "\n",
        "    except Exception:\n",
        "        continue  # skip faulty segments\n",
        "\n",
        "# Combine all features\n",
        "hrv_dataset = pd.concat(feature_rows, ignore_index=True)\n",
        "\n",
        "# Drop columns that are completely NaN\n",
        "hrv_dataset.dropna(axis=1, how='all', inplace=True)\n",
        "\n",
        "# Save to CSV\n",
        "output_path = f\"/content/hrv_features_labeled_{subject_id}.csv\"\n",
        "hrv_dataset.to_csv(output_path, index=False)\n",
        "\n",
        "print(f\"✅ HRV feature dataset saved to: {output_path}\")\n"
      ],
      "metadata": {
        "colab": {
          "base_uri": "https://localhost:8080/"
        },
        "id": "tEREBg1yEMXB",
        "outputId": "3f2d8bd3-f538-4c44-c9b0-b317389fbf5b"
      },
      "execution_count": 23,
      "outputs": [
        {
          "output_type": "stream",
          "name": "stderr",
          "text": [
            "100%|██████████| 100/100 [00:38<00:00,  2.58it/s]"
          ]
        },
        {
          "output_type": "stream",
          "name": "stdout",
          "text": [
            "✅ HRV feature dataset saved to: /content/hrv_features_labeled_S8.csv\n"
          ]
        },
        {
          "output_type": "stream",
          "name": "stderr",
          "text": [
            "\n"
          ]
        }
      ]
    },
    {
      "cell_type": "code",
      "source": [
        "import pandas as pd\n",
        "\n",
        "# Read the CSV files\n",
        "df1 = pd.read_csv(\"/content/hrv_features_labeled_S2.csv\")\n",
        "df2 =pd.read_csv(\"/content/hrv_features_labeled_S3.csv\")\n",
        "df3 = pd.read_csv(\"/content/hrv_features_labeled_S4.csv\")\n",
        "df4 = pd.read_csv(\"/content/hrv_features_labeled_S5.csv\")\n",
        "df5 = pd.read_csv(\"/content/hrv_features_labeled_S6.csv\")\n",
        "df6 = pd.read_csv(\"/content/hrv_features_labeled_S7.csv\")\n",
        "df7 = pd.read_csv(\"/content/hrv_features_labeled_S8.csv\")\n",
        "df8 = pd.read_csv(\"/content/hrv_features_labeled_S9.csv\")\n",
        "df9 = pd.read_csv(\"/content/hrv_features_labeled_S10.csv\")\n",
        "df10 = pd.read_csv(\"/content/hrv_features_labeled_S11.csv\")\n",
        "df11 = pd.read_csv(\"/content/hrv_features_labeled_S13.csv\")\n",
        "df12 = pd.read_csv(\"/content/hrv_features_labeled_S14.csv\")\n",
        "# Concatenate the data (ignore the header in the second file)\n",
        "merged_df = pd.concat([df1, df2,df3,df4,df5,df6,df7,df8,df9,df10,df11,df12], ignore_index=True)\n",
        "\n",
        "# Write the merged data to a new CSV file\n",
        "merged_df.to_csv('merged_file.csv', index=False)\n"
      ],
      "metadata": {
        "id": "spk0Eu4AOHWg"
      },
      "execution_count": 24,
      "outputs": []
    },
    {
      "cell_type": "code",
      "source": [
        "import pandas as pd\n",
        "import matplotlib.pyplot as plt\n",
        "\n",
        "# Load your HRV features CSV\n",
        "csv_path = '/content/merged_file.csv'  # change if needed\n",
        "df = pd.read_csv(csv_path)\n",
        "\n",
        "# Count the number of samples for each label\n",
        "label_counts = df['Label'].value_counts().sort_index()\n",
        "\n",
        "# Plot\n",
        "plt.figure(figsize=(8, 5))\n",
        "label_counts.plot(kind='bar', color='skyblue', edgecolor='black')\n",
        "plt.xlabel('Class Label')\n",
        "plt.ylabel('Count')\n",
        "plt.title('Class Imbalance')\n",
        "plt.xticks(rotation=0)\n",
        "plt.grid(axis='y', linestyle='--', alpha=0.7)\n",
        "plt.show()\n"
      ],
      "metadata": {
        "colab": {
          "base_uri": "https://localhost:8080/",
          "height": 487
        },
        "id": "J71v12j6Pqe3",
        "outputId": "1e7ebf27-73dc-432c-9a4e-0186384381e5"
      },
      "execution_count": 25,
      "outputs": [
        {
          "output_type": "display_data",
          "data": {
            "text/plain": [
              "<Figure size 800x500 with 1 Axes>"
            ],
            "image/png": "[encoded data removed]"
          },
          "metadata": {}
        }
      ]
    },
    {
      "cell_type": "code",
      "source": [
        "import pandas as pd\n",
        "\n",
        "# Load dataset\n",
        "csv_path = '/content/merged_file.csv'  # change if needed\n",
        "df = pd.read_csv(csv_path)\n",
        "\n",
        "# Count samples per class\n",
        "class_counts = df['Label'].value_counts()\n",
        "print(\"Before undersampling:\\n\", class_counts)\n",
        "\n",
        "# Get count of class 2\n",
        "class_2_count = class_counts[2]\n",
        "\n",
        "# Split classes\n",
        "class_1_df = df[df['Label'] == 1]\n",
        "class_2_df = df[df['Label'] == 2]\n",
        "class_3_df = df[df['Label'] == 3]\n",
        "class_4_df = df[df['Label'] == 4]\n",
        "\n",
        "# Undersample class 1\n",
        "class_1_undersampled = class_1_df.sample(n=class_2_count, random_state=42)\n",
        "\n",
        "# Combine balanced dataset (1 and 2 are balanced, 3 and 4 are left untouched)\n",
        "balanced_df = pd.concat([class_1_undersampled, class_2_df, class_3_df, class_4_df], ignore_index=True)\n",
        "\n",
        "# Shuffle the rows\n",
        "balanced_df = balanced_df.sample(frac=1, random_state=42).reset_index(drop=True)\n",
        "\n",
        "# Count samples after undersampling\n",
        "print(\"\\nAfter undersampling:\\n\", balanced_df['Label'].value_counts())\n",
        "\n",
        "# Save (optional)\n",
        "balanced_df.to_csv('/content/hrv_features_balanced.csv', index=False)\n",
        "print(\"\\n✅ Balanced dataset saved to /content/hrv_features_balanced.csv\")\n"
      ],
      "metadata": {
        "colab": {
          "base_uri": "https://localhost:8080/"
        },
        "id": "bTKaqSvKQdYH",
        "outputId": "80ba1862-cce7-49cf-d441-0f0aeec8f874"
      },
      "execution_count": 31,
      "outputs": [
        {
          "output_type": "stream",
          "name": "stdout",
          "text": [
            "Before undersampling:\n",
            " Label\n",
            "1    464\n",
            "4    295\n",
            "2    251\n",
            "3    137\n",
            "Name: count, dtype: int64\n",
            "\n",
            "After undersampling:\n",
            " Label\n",
            "4    295\n",
            "2    251\n",
            "1    251\n",
            "3    137\n",
            "Name: count, dtype: int64\n",
            "\n",
            "✅ Balanced dataset saved to /content/hrv_features_balanced.csv\n"
          ]
        }
      ]
    },
    {
      "cell_type": "code",
      "source": [
        "import pandas as pd\n",
        "from sklearn.ensemble import RandomForestClassifier\n",
        "from sklearn.metrics import classification_report, confusion_matrix\n",
        "import matplotlib.pyplot as plt\n",
        "import seaborn as sns\n",
        "\n",
        "# Load the balanced dataset\n",
        "df = pd.read_csv('/content/hrv_features_balanced.csv')\n",
        "\n",
        "# Separate features and label\n",
        "X = df.drop(columns=['Label'])\n",
        "y = df['Label']\n",
        "\n",
        "# Initialize Random Forest\n",
        "clf = RandomForestClassifier(n_estimators=200, random_state=42, class_weight=\"balanced\")\n",
        "\n",
        "# Train on the entire dataset\n",
        "clf.fit(X, y)\n",
        "\n",
        "# Predict using the same data (as there is no test set now)\n",
        "y_pred = clf.predict(X)\n",
        "\n",
        "# Evaluation report\n",
        "print(classification_report(y, y_pred))\n",
        "\n",
        "# Confusion matrix\n",
        "cm = confusion_matrix(y, y_pred)\n",
        "plt.figure(figsize=(5, 4))\n",
        "sns.heatmap(cm, annot=True, fmt='d', cmap='Blues', xticklabels=sorted(y.unique()), yticklabels=sorted(y.unique()))\n",
        "plt.xlabel('Predicted')\n",
        "plt.ylabel('True')\n",
        "plt.title('Confusion Matrix')\n",
        "plt.show()\n"
      ],
      "metadata": {
        "colab": {
          "base_uri": "https://localhost:8080/",
          "height": 601
        },
        "id": "vAlgNB8-QqVM",
        "outputId": "9a28ac7e-b7dd-4a3a-81bf-20ec1c366c9e"
      },
      "execution_count": 39,
      "outputs": [
        {
          "output_type": "stream",
          "name": "stdout",
          "text": [
            "              precision    recall  f1-score   support\n",
            "\n",
            "           1       1.00      1.00      1.00       251\n",
            "           2       1.00      1.00      1.00       251\n",
            "           3       1.00      1.00      1.00       137\n",
            "           4       1.00      1.00      1.00       295\n",
            "\n",
            "    accuracy                           1.00       934\n",
            "   macro avg       1.00      1.00      1.00       934\n",
            "weighted avg       1.00      1.00      1.00       934\n",
            "\n"
          ]
        },
        {
          "output_type": "display_data",
          "data": {
            "text/plain": [
              "<Figure size 500x400 with 2 Axes>"
            ],
            "image/png": "[encoded data removed]"
          },
          "metadata": {}
        }
      ]
    },
    {
      "cell_type": "code",
      "source": [
        "import joblib\n",
        "\n",
        "# Save the trained Random Forest model\n",
        "joblib.dump(clf, '/content/random_forest_hrv.pkl')\n",
        "print(\"✅ Model saved!\")\n"
      ],
      "metadata": {
        "colab": {
          "base_uri": "https://localhost:8080/"
        },
        "id": "wKXuwnWZRDd_",
        "outputId": "8c9f8590-3505-41cc-b078-baa24de38259"
      },
      "execution_count": 40,
      "outputs": [
        {
          "output_type": "stream",
          "name": "stdout",
          "text": [
            "✅ Model saved!\n"
          ]
        }
      ]
    },
    {
      "cell_type": "code",
      "source": [
        "import pandas as pd\n",
        "import joblib\n",
        "\n",
        "# Load trained model\n",
        "clf = joblib.load('/content/random_forest_hrv.pkl')\n",
        "\n",
        "# Load left-out subject features\n",
        "test_df = pd.read_csv('/content/hrv_features_labeled_S13.csv')  # <- change S11 to your left-out subject\n",
        "\n",
        "# Separate features and true labels\n",
        "X_test = test_df.drop(columns=['Label'])\n",
        "y_true = test_df['Label']\n",
        "\n",
        "# Predict\n",
        "y_pred = clf.predict(X_test)\n",
        "\n",
        "# Create a DataFrame with true labels and predicted labels\n",
        "result_df = pd.DataFrame({\n",
        "    'True_Label': y_true,\n",
        "    'Predicted_Label': y_pred\n",
        "})\n",
        "\n",
        "# Save to CSV file\n",
        "result_df.to_csv('/content/predictions_results.csv', index=False)\n",
        "\n",
        "# Optional: Classification report\n",
        "from sklearn.metrics import classification_report\n",
        "print(\"\\n\", classification_report(y_true, y_pred))\n"
      ],
      "metadata": {
        "colab": {
          "base_uri": "https://localhost:8080/"
        },
        "id": "hPPCZLPiQstZ",
        "outputId": "8a68a80e-5e14-48ee-dfa4-2ec6dd071bf0"
      },
      "execution_count": 42,
      "outputs": [
        {
          "output_type": "stream",
          "name": "stdout",
          "text": [
            "\n",
            "               precision    recall  f1-score   support\n",
            "\n",
            "           1       1.00      0.72      0.84        39\n",
            "           2       0.72      1.00      0.84        21\n",
            "           3       0.80      1.00      0.89        12\n",
            "           4       1.00      1.00      1.00        24\n",
            "\n",
            "    accuracy                           0.89        96\n",
            "   macro avg       0.88      0.93      0.89        96\n",
            "weighted avg       0.91      0.89      0.88        96\n",
            "\n"
          ]
        }
      ]
    }
  ]
}