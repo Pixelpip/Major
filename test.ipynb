{
  "nbformat": 4,
  "nbformat_minor": 0,
  "metadata": {
    "colab": {
      "provenance": []
    },
    "kernelspec": {
      "name": "python3",
      "display_name": "Python 3"
    },
    "language_info": {
      "name": "python"
    }
  },
  "cells": [
    {
      "cell_type": "code",
      "source": [
        "!pip install neurokit2\n"
      ],
      "metadata": {
        "id": "fvFU_AZ9OlA4",
        "colab": {
          "base_uri": "https://localhost:8080/"
        },
        "outputId": "df089bf4-647f-4474-9ab9-84653d4166ef"
      },
      "execution_count": null,
      "outputs": [
        {
          "output_type": "stream",
          "name": "stdout",
          "text": [
            "Collecting neurokit2\n",
            "  Downloading neurokit2-0.2.11-py2.py3-none-any.whl.metadata (37 kB)\n",
            "Requirement already satisfied: requests in /usr/local/lib/python3.11/dist-packages (from neurokit2) (2.32.3)\n",
            "Requirement already satisfied: numpy in /usr/local/lib/python3.11/dist-packages (from neurokit2) (2.0.2)\n",
            "Requirement already satisfied: pandas in /usr/local/lib/python3.11/dist-packages (from neurokit2) (2.2.2)\n",
            "Requirement already satisfied: scipy in /usr/local/lib/python3.11/dist-packages (from neurokit2) (1.15.3)\n",
            "Requirement already satisfied: scikit-learn>=1.0.0 in /usr/local/lib/python3.11/dist-packages (from neurokit2) (1.6.1)\n",
            "Requirement already satisfied: matplotlib>=3.5.0 in /usr/local/lib/python3.11/dist-packages (from neurokit2) (3.10.0)\n",
            "Requirement already satisfied: contourpy>=1.0.1 in /usr/local/lib/python3.11/dist-packages (from matplotlib>=3.5.0->neurokit2) (1.3.2)\n",
            "Requirement already satisfied: cycler>=0.10 in /usr/local/lib/python3.11/dist-packages (from matplotlib>=3.5.0->neurokit2) (0.12.1)\n",
            "Requirement already satisfied: fonttools>=4.22.0 in /usr/local/lib/python3.11/dist-packages (from matplotlib>=3.5.0->neurokit2) (4.58.0)\n",
            "Requirement already satisfied: kiwisolver>=1.3.1 in /usr/local/lib/python3.11/dist-packages (from matplotlib>=3.5.0->neurokit2) (1.4.8)\n",
            "Requirement already satisfied: packaging>=20.0 in /usr/local/lib/python3.11/dist-packages (from matplotlib>=3.5.0->neurokit2) (24.2)\n",
            "Requirement already satisfied: pillow>=8 in /usr/local/lib/python3.11/dist-packages (from matplotlib>=3.5.0->neurokit2) (11.2.1)\n",
            "Requirement already satisfied: pyparsing>=2.3.1 in /usr/local/lib/python3.11/dist-packages (from matplotlib>=3.5.0->neurokit2) (3.2.3)\n",
            "Requirement already satisfied: python-dateutil>=2.7 in /usr/local/lib/python3.11/dist-packages (from matplotlib>=3.5.0->neurokit2) (2.9.0.post0)\n",
            "Requirement already satisfied: joblib>=1.2.0 in /usr/local/lib/python3.11/dist-packages (from scikit-learn>=1.0.0->neurokit2) (1.5.0)\n",
            "Requirement already satisfied: threadpoolctl>=3.1.0 in /usr/local/lib/python3.11/dist-packages (from scikit-learn>=1.0.0->neurokit2) (3.6.0)\n",
            "Requirement already satisfied: pytz>=2020.1 in /usr/local/lib/python3.11/dist-packages (from pandas->neurokit2) (2025.2)\n",
            "Requirement already satisfied: tzdata>=2022.7 in /usr/local/lib/python3.11/dist-packages (from pandas->neurokit2) (2025.2)\n",
            "Requirement already satisfied: charset-normalizer<4,>=2 in /usr/local/lib/python3.11/dist-packages (from requests->neurokit2) (3.4.2)\n",
            "Requirement already satisfied: idna<4,>=2.5 in /usr/local/lib/python3.11/dist-packages (from requests->neurokit2) (3.10)\n",
            "Requirement already satisfied: urllib3<3,>=1.21.1 in /usr/local/lib/python3.11/dist-packages (from requests->neurokit2) (2.4.0)\n",
            "Requirement already satisfied: certifi>=2017.4.17 in /usr/local/lib/python3.11/dist-packages (from requests->neurokit2) (2025.4.26)\n",
            "Requirement already satisfied: six>=1.5 in /usr/local/lib/python3.11/dist-packages (from python-dateutil>=2.7->matplotlib>=3.5.0->neurokit2) (1.17.0)\n",
            "Downloading neurokit2-0.2.11-py2.py3-none-any.whl (696 kB)\n",
            "\u001b[2K   \u001b[90m━━━━━━━━━━━━━━━━━━━━━━━━━━━━━━━━━━━━━━━━\u001b[0m \u001b[32m696.5/696.5 kB\u001b[0m \u001b[31m12.4 MB/s\u001b[0m eta \u001b[36m0:00:00\u001b[0m\n",
            "\u001b[?25hInstalling collected packages: neurokit2\n",
            "Successfully installed neurokit2-0.2.11\n"
          ]
        }
      ]
    },
    {
      "cell_type": "code",
      "execution_count": null,
      "metadata": {
        "id": "GAhJkcFGFDJl"
      },
      "outputs": [],
      "source": [
        "import pickle\n",
        "import pandas as pd\n",
        "import numpy as np\n",
        "import matplotlib.pyplot as plt\n",
        "import seaborn as sns\n",
        "import os\n",
        "\n",
        "# Load data\n",
        "pkl_file = '/content/drive/MyDrive/WESAD_pkl/S17.pkl'\n",
        "subject_id = os.path.basename(pkl_file).split('.')[0]\n",
        "with open(pkl_file, 'rb') as file:\n",
        "    data = pickle.load(file, encoding='latin1')\n"
      ]
    },
    {
      "cell_type": "code",
      "source": [
        "# structure of ECG data\n",
        "ecg_data = data['signal']['chest']['ECG']\n",
        "print(ecg_data)\n",
        "print(ecg_data.shape)\n",
        "print(data['signal']['chest'].keys())\n"
      ],
      "metadata": {
        "colab": {
          "base_uri": "https://localhost:8080/"
        },
        "id": "qBhWvEYGF66T",
        "outputId": "41f45b2b-1fc7-46e4-fb17-965ebdba9354"
      },
      "execution_count": null,
      "outputs": [
        {
          "output_type": "stream",
          "name": "stdout",
          "text": [
            "[[1.43179321]\n",
            " [1.46195984]\n",
            " [1.47161865]\n",
            " ...\n",
            " [0.16712952]\n",
            " [0.17033386]\n",
            " [0.17523193]]\n",
            "(4144000, 1)\n",
            "dict_keys(['ACC', 'ECG', 'EMG', 'EDA', 'Temp', 'Resp'])\n"
          ]
        }
      ]
    },
    {
      "cell_type": "markdown",
      "source": [
        "**Binary classsifer random forest all data**"
      ],
      "metadata": {
        "id": "a38Ww8LfLKyt"
      }
    },
    {
      "cell_type": "code",
      "source": [
        "import pandas as pd\n",
        "from sklearn.ensemble import RandomForestClassifier\n",
        "from sklearn.model_selection import train_test_split\n",
        "from sklearn.metrics import classification_report\n",
        "import joblib\n",
        "\n",
        "# Load full dataset with HRV features + Label\n",
        "df = pd.read_csv('/content/drive/MyDrive/WESAD_pkl/ECG/merged_file_all_test.csv')\n",
        "\n",
        "# Convert to binary stress label (Label==2 → 1, else 0)\n",
        "df['Label'] = df['Label'].apply(lambda x: 1 if x == 2 else 0)\n",
        "\n",
        "# Drop columns that should NOT be features\n",
        "non_feature_cols = ['Label']\n",
        "X = df.drop(columns=non_feature_cols, errors='ignore')\n",
        "y = df['Label']\n",
        "\n",
        "# Split into train/test sets (80% train, 20% test)\n",
        "X_train, X_test, y_train, y_test = train_test_split(\n",
        "    X, y, test_size=0.20, random_state=42,stratify=y\n",
        ")\n",
        "\n",
        "# Train Random Forest with balanced class weights\n",
        "clf = RandomForestClassifier(n_estimators=500, class_weight=\"balanced\", random_state=42)\n",
        "clf.fit(X_train, y_train)\n",
        "\n",
        "# Predict on test set\n",
        "y_pred = clf.predict(X_test)\n",
        "\n",
        "# Print classification report on test set\n",
        "print(\"Classification Report on Test Set:\")\n",
        "print(classification_report(y_test, y_pred, target_names=['No Stress', 'Stress']))\n",
        "# Confusion matrix\n",
        "cm = confusion_matrix(y_test, y_pred)\n",
        "plt.figure(figsize=(5, 4))\n",
        "sns.heatmap(cm, annot=True, fmt='d', cmap='Blues',\n",
        "            xticklabels=sorted(y.unique()), yticklabels=sorted(y.unique()))\n",
        "plt.xlabel('Predicted')\n",
        "plt.ylabel('True')\n",
        "plt.title('Confusion Matrix (Test Set)')\n",
        "plt.show()\n",
        "# Save model\n",
        "#joblib.dump(clf, 'stress_rf_binary_all_data_model.pkl')\n",
        "#print(\"Model saved\")\n"
      ],
      "metadata": {
        "colab": {
          "base_uri": "https://localhost:8080/",
          "height": 584
        },
        "id": "nqazJhJmNR7s",
        "outputId": "7f0ed8b8-e4f3-451a-b650-33f2944be0cc"
      },
      "execution_count": null,
      "outputs": [
        {
          "output_type": "stream",
          "name": "stdout",
          "text": [
            "Classification Report on Test Set:\n",
            "              precision    recall  f1-score   support\n",
            "\n",
            "   No Stress       0.91      0.96      0.94       224\n",
            "      Stress       0.83      0.69      0.75        64\n",
            "\n",
            "    accuracy                           0.90       288\n",
            "   macro avg       0.87      0.82      0.84       288\n",
            "weighted avg       0.90      0.90      0.90       288\n",
            "\n"
          ]
        },
        {
          "output_type": "display_data",
          "data": {
            "text/plain": [
              "<Figure size 500x400 with 2 Axes>"
            ],
            "image/png": "[encoded data removed]"
          },
          "metadata": {}
        }
      ]
    },
    {
      "cell_type": "code",
      "source": [
        "# feature importance\n",
        "importances = clf.feature_importances_\n",
        "feature_imp_df = pd.DataFrame({'Feature': X.columns, 'Gini Importance': importances}).sort_values('Gini Importance', ascending=False)\n",
        "print(feature_imp_df)"
      ],
      "metadata": {
        "colab": {
          "base_uri": "https://localhost:8080/"
        },
        "id": "8drpOzL2MzA1",
        "outputId": "b4107627-a42a-46a0-9c42-16d23bb83010"
      },
      "execution_count": null,
      "outputs": [
        {
          "output_type": "stream",
          "name": "stdout",
          "text": [
            "         Feature  Gini Importance\n",
            "15     HRV_MinNN         0.150020\n",
            "0     HRV_MeanNN         0.135933\n",
            "11   HRV_Prc20NN         0.133204\n",
            "6   HRV_MedianNN         0.085613\n",
            "12   HRV_Prc80NN         0.079381\n",
            "16     HRV_MaxNN         0.062635\n",
            "14     HRV_pNN20         0.036469\n",
            "10   HRV_SDRMSSD         0.035373\n",
            "2      HRV_RMSSD         0.031041\n",
            "4       HRV_CVNN         0.030156\n",
            "3       HRV_SDSD         0.029484\n",
            "5       HRV_CVSD         0.029047\n",
            "13     HRV_pNN50         0.028572\n",
            "8      HRV_MCVNN         0.027821\n",
            "1       HRV_SDNN         0.023696\n",
            "9      HRV_IQRNN         0.022474\n",
            "17       HRV_HTI         0.020862\n",
            "7      HRV_MadNN         0.020687\n",
            "18      HRV_TINN         0.017532\n"
          ]
        }
      ]
    },
    {
      "cell_type": "markdown",
      "source": [
        "| Feature           | Meaning                                         | Stress Effect     | Non-Stress Effect | Interpretation                                    |\n",
        "| ----------------- | ----------------------------------------------- | ----------------- | ----------------- | ------------------------------------------------- |\n",
        "| **HRV\\_MinNN**    | Minimum R-R interval                            | Decreases         | Increases         | Faster HR shortens intervals under stress         |\n",
        "| **HRV\\_MeanNN**   | Mean of R-R intervals                           | Decreases         | Increases         | Overall HR is faster in stress, slower in rest    |\n",
        "| **HRV\\_Prc20NN**  | 20th percentile of R-R intervals                | Decreases         | Increases         | Distribution shifts left in stress                |\n",
        "| **HRV\\_MedianNN** | Median R-R interval                             | Decreases         | Increases         | Central value of RR intervals rises in non-stress |\n",
        "| **HRV\\_Prc80NN**  | 80th percentile of R-R intervals                | Decreases         | Increases         | Spread contracts under stress                     |\n",
        "| **HRV\\_MaxNN**    | Maximum R-R interval                            | Decreases         | Increases         | Longest beat gap shortens with stress             |\n",
        "| **HRV\\_pNN20**    | % of successive R-R diffs >20ms                 | Decreases         | Increases         | More irregular beat intervals in non-stress       |\n",
        "| **HRV\\_SDRMSSD**  | Std dev of RMSSD                                | Decreases         | Increases         | HRV becomes smoother under stress                 |\n",
        "| **HRV\\_RMSSD**    | Root Mean Square of successive R-R diffs        | Decreases         | Increases         | Reflects vagal tone; increases with relaxation    |\n",
        "| **HRV\\_CVNN**     | Coefficient of Variation of NN intervals        | Decreases         | Increases         | Stress reduces variability                        |\n",
        "| **HRV\\_SDSD**     | Std dev of successive R-R diffs                 | Decreases         | Increases         | Smaller changes between beats under stress        |\n",
        "| **HRV\\_CVSD**     | RMSSD / MeanNN                                  | Decreases         | Increases         | Normalized variation falls in stress              |\n",
        "| **HRV\\_pNN50**    | % of R-R diffs >50ms                            | Decreases sharply | Increases sharply | Highly sensitive to stress; drops sharply         |\n",
        "| **HRV\\_MCVNN**    | Median Coefficient of Variation of NN intervals | Decreases         | Increases         | Robust HRV variability measure                    |\n",
        "| **HRV\\_SDNN**     | Std dev of all NN intervals                     | Decreases         | Increases         | Overall HRV drops with stress                     |\n",
        "| **HRV\\_IQRNN**    | Interquartile Range of NN intervals             | Decreases         | Increases         | Spread of heart intervals expands in non-stress   |\n",
        "| **HRV\\_HTI**      | HRV Triangular Index                            | Decreases         | Increases         | Lower histogram spread under stress               |\n",
        "| **HRV\\_MadNN**    | Median Absolute Deviation of NN intervals       | Decreases         | Increases         | Robust variability decreases in stress            |\n",
        "| **HRV\\_TINN**     | Baseline width of HRV histogram                 | Decreases         | Increases         | Distribution narrows under stress                 |\n"
      ],
      "metadata": {
        "id": "wN5fcVfanHEw"
      }
    },
    {
      "cell_type": "markdown",
      "source": [
        "**3class classification on all data**"
      ],
      "metadata": {
        "id": "nzJ5jshZOo8B"
      }
    },
    {
      "cell_type": "code",
      "source": [
        "import pandas as pd\n",
        "from sklearn.ensemble import RandomForestClassifier\n",
        "from sklearn.metrics import classification_report, confusion_matrix\n",
        "from sklearn.model_selection import train_test_split\n",
        "import matplotlib.pyplot as plt\n",
        "import seaborn as sns\n",
        "\n",
        "df = pd.read_csv('/content/drive/MyDrive/WESAD_pkl/ECG/merged_file_all_test.csv')\n",
        "\n",
        "# drop label 4 becasue 3 class classification\n",
        "df = df[df['Label'] != 4]\n",
        "\n",
        "# Separate features and label\n",
        "X = df.drop(columns=['Label'])\n",
        "y = df['Label']\n",
        "\n",
        "# training and testing sets (80% train, 20% test)\n",
        "X_train, X_test, y_train, y_test = train_test_split(\n",
        "    X, y, test_size=0.2, random_state=42, stratify=y)\n",
        "\n",
        "# Random Forest\n",
        "clf = RandomForestClassifier(n_estimators=400, random_state=42, class_weight=\"balanced\")\n",
        "\n",
        "# Train on training data\n",
        "clf.fit(X_train, y_train)\n",
        "\n",
        "# Predict on test data\n",
        "y_pred = clf.predict(X_test)\n",
        "\n",
        "# Evaluation report\n",
        "print(\"Classification Report on Test Set:\\n\")\n",
        "print(classification_report(y_test, y_pred))\n",
        "\n",
        "# Confusion matrix\n",
        "cm = confusion_matrix(y_test, y_pred)\n",
        "plt.figure(figsize=(5, 4))\n",
        "sns.heatmap(cm, annot=True, fmt='d', cmap='Blues',\n",
        "            xticklabels=sorted(y.unique()), yticklabels=sorted(y.unique()))\n",
        "plt.xlabel('Predicted')\n",
        "plt.ylabel('True')\n",
        "plt.title('Confusion Matrix (Test Set)')\n",
        "plt.show()\n",
        "joblib.dump(clf, 'stress_rf__all_data_model.pkl')\n",
        "print(\"Model saved\")\n"
      ],
      "metadata": {
        "colab": {
          "base_uri": "https://localhost:8080/",
          "height": 636
        },
        "id": "vAlgNB8-QqVM",
        "outputId": "844a41f8-b480-4326-bf3e-e6958ff45aae"
      },
      "execution_count": null,
      "outputs": [
        {
          "output_type": "stream",
          "name": "stdout",
          "text": [
            "Classification Report on Test Set:\n",
            "\n",
            "              precision    recall  f1-score   support\n",
            "\n",
            "           1       0.73      0.92      0.82       116\n",
            "           2       0.80      0.77      0.78        64\n",
            "           3       0.29      0.06      0.10        34\n",
            "\n",
            "    accuracy                           0.74       214\n",
            "   macro avg       0.61      0.58      0.57       214\n",
            "weighted avg       0.68      0.74      0.69       214\n",
            "\n"
          ]
        },
        {
          "output_type": "display_data",
          "data": {
            "text/plain": [
              "<Figure size 500x400 with 2 Axes>"
            ],
            "image/png": "[encoded data removed]"
          },
          "metadata": {}
        },
        {
          "output_type": "stream",
          "name": "stdout",
          "text": [
            "Model saved\n"
          ]
        }
      ]
    },
    {
      "cell_type": "markdown",
      "source": [
        "**Binary classifiction using 12 subject data for training and 3 subject data as testing(Leave one group out approach)**"
      ],
      "metadata": {
        "id": "DfrkRVRrPCGL"
      }
    },
    {
      "cell_type": "code",
      "source": [
        "import pandas as pd\n",
        "import joblib\n",
        "import neurokit2 as nk\n",
        "\n",
        "# Loading model\n",
        "model = joblib.load('/content/stress_rf_model_binary_LOGO.pkl')\n",
        "\n",
        "#Loading 30s test ECG window\n",
        "window_path = '/content/drive/MyDrive/WESAD_pkl/ECG/ECG_RAW/ECG_binary_Class/s15_30s/1/S15_window_88.csv'\n",
        "df = pd.read_csv(window_path)\n",
        "\n",
        "# ECG cleaning and feature extraction using neurokit\n",
        "ecg_signal = df['ECG'].values\n",
        "signals, info = nk.ecg_process(ecg_signal, sampling_rate=700)\n",
        "hrv_features = nk.hrv_time(signals['ECG_R_Peaks'], sampling_rate=700, show=False)\n",
        "\n",
        "\n",
        "# drop label\n",
        "X = hrv_features.drop(columns=['Label'], errors='ignore')\n",
        "X = X.dropna(axis=1, how='all')\n",
        "\n",
        "prediction = model.predict(X)[0]\n",
        "true_label = df['Label'].mode()[0]\n",
        "\n",
        "# Output\n",
        "print(f\"Model Prediction: {prediction}\")\n",
        "print(f\"Ground Truth Label: {true_label}\")\n",
        "print(\"Correct!\" if prediction == true_label else \"Incorrect.\")\n"
      ],
      "metadata": {
        "colab": {
          "base_uri": "https://localhost:8080/"
        },
        "id": "wvbjAZHeChn_",
        "outputId": "e95508c8-f29c-4a4d-b52e-b7afc9bca607"
      },
      "execution_count": null,
      "outputs": [
        {
          "output_type": "stream",
          "name": "stdout",
          "text": [
            "Model Prediction: 1\n",
            "Ground Truth Label: 1\n",
            "Correct!\n"
          ]
        }
      ]
    },
    {
      "cell_type": "markdown",
      "source": [
        "**3class classification using 12 subject data and 3 testing data**"
      ],
      "metadata": {
        "id": "6sSUXMv1MXLd"
      }
    },
    {
      "cell_type": "code",
      "source": [
        "import pandas as pd\n",
        "import joblib\n",
        "import neurokit2 as nk\n",
        "\n",
        "# Loading model\n",
        "model = joblib.load('/content/stress_rf_model_3class_LOGO.pkl')\n",
        "\n",
        "#Loading 30s test ECG window\n",
        "window_path = '/content/drive/MyDrive/WESAD_pkl/ECG/ECG_RAW/ECG_3_class/s15_30s/3/S15_window_49.csv'\n",
        "df = pd.read_csv(window_path)\n",
        "\n",
        "# ECG cleaning and feature extraction using neurokit\n",
        "ecg_signal = df['ECG'].values\n",
        "signals, info = nk.ecg_process(ecg_signal, sampling_rate=700)\n",
        "hrv_features = nk.hrv_time(signals['ECG_R_Peaks'], sampling_rate=700, show=False)\n",
        "\n",
        "\n",
        "# drop label\n",
        "X = hrv_features.drop(columns=['Label'], errors='ignore')\n",
        "X = X.dropna(axis=1, how='all')\n",
        "\n",
        "prediction = model.predict(X)[0]\n",
        "true_label = df['Label'].mode()[0]\n",
        "\n",
        "# Output\n",
        "print(f\"Model Prediction: {prediction}\")\n",
        "print(f\"Ground Truth Label: {true_label}\")\n",
        "print(\"Correct!\" if prediction == true_label else \"Incorrect.\")\n"
      ],
      "metadata": {
        "colab": {
          "base_uri": "https://localhost:8080/"
        },
        "id": "Ds0OdRK5P270",
        "outputId": "6f3cde17-103a-4e8e-d2c9-078180d679fe"
      },
      "execution_count": null,
      "outputs": [
        {
          "output_type": "stream",
          "name": "stdout",
          "text": [
            "Model Prediction: 1\n",
            "Ground Truth Label: 3\n",
            "Incorrect.\n"
          ]
        }
      ]
    },
    {
      "cell_type": "code",
      "source": [
        "import pandas as pd\n",
        "from sklearn.metrics import classification_report, confusion_matrix\n",
        "import joblib\n",
        "import seaborn as sns\n",
        "import matplotlib.pyplot as plt\n",
        "\n",
        "# Load dataset for unseen subject\n",
        "df = pd.read_csv('/content/drive/MyDrive/WESAD_pkl/ECG/hrv_features_labeled_S15.csv')\n",
        "\n",
        "# Convert to binary stress label (Label==2 then 1, else 0)\n",
        "df['Label'] = df['Label'].apply(lambda x: 1 if x == 2 else 0)\n",
        "\n",
        "# Separate features and labels\n",
        "X = df.drop(columns=['Label'], errors='ignore')\n",
        "y = df['Label']\n",
        "\n",
        "clf = joblib.load('/content/drive/MyDrive/WESAD_pkl/ECG/models/stress_rf_model_binary_LOGO.pkl')\n",
        "\n",
        "y_pred = clf.predict(X)\n",
        "\n",
        "# classification report\n",
        "print(\"Classification Report:\")\n",
        "print(classification_report(y, y_pred, target_names=['No Stress', 'Stress']))\n",
        "\n",
        "# Confusion matrix\n",
        "cm = confusion_matrix(y, y_pred)\n",
        "plt.figure(figsize=(5, 4))\n",
        "sns.heatmap(cm, annot=True, fmt='d', cmap='Blues',\n",
        "            xticklabels=sorted(y.unique()), yticklabels=sorted(y.unique()))\n",
        "plt.xlabel('Predicted')\n",
        "plt.ylabel('True')\n",
        "plt.title('Confusion Matrix (Full Subject S16)')\n",
        "plt.show()\n"
      ],
      "metadata": {
        "colab": {
          "base_uri": "https://localhost:8080/",
          "height": 584
        },
        "id": "2PrOKIgdWitk",
        "outputId": "e65e9fe3-67b6-41c9-cd32-01124506e00e"
      },
      "execution_count": 7,
      "outputs": [
        {
          "output_type": "stream",
          "name": "stdout",
          "text": [
            "Classification Report:\n",
            "              precision    recall  f1-score   support\n",
            "\n",
            "   No Stress       0.90      1.00      0.95        74\n",
            "      Stress       1.00      0.64      0.78        22\n",
            "\n",
            "    accuracy                           0.92        96\n",
            "   macro avg       0.95      0.82      0.86        96\n",
            "weighted avg       0.92      0.92      0.91        96\n",
            "\n"
          ]
        },
        {
          "output_type": "display_data",
          "data": {
            "text/plain": [
              "<Figure size 500x400 with 2 Axes>"
            ],
            "image/png": "[encoded data removed]"
          },
          "metadata": {}
        }
      ]
    },
    {
      "cell_type": "code",
      "source": [
        "import pandas as pd\n",
        "from sklearn.metrics import classification_report, confusion_matrix\n",
        "import joblib\n",
        "import seaborn as sns\n",
        "import matplotlib.pyplot as plt\n",
        "\n",
        "# Load dataset for unseen subject\n",
        "df = pd.read_csv('/content/drive/MyDrive/WESAD_pkl/ECG/hrv_features_labeled_S16.csv')\n",
        "\n",
        "# Convert to binary stress label (Label==2 then 1, else 0)\n",
        "df['Label'] = df['Label'].apply(lambda x: 1 if x == 2 else 0)\n",
        "\n",
        "# Separate features and labels\n",
        "X = df.drop(columns=['Label'], errors='ignore')\n",
        "y = df['Label']\n",
        "\n",
        "clf = joblib.load('/content/drive/MyDrive/WESAD_pkl/ECG/models/stress_rf_model_binary_LOGO.pkl')\n",
        "\n",
        "y_pred = clf.predict(X)\n",
        "\n",
        "# classification report\n",
        "print(\"Classification Report:\")\n",
        "print(classification_report(y, y_pred, target_names=['No Stress', 'Stress']))\n",
        "\n",
        "# Confusion matrix\n",
        "cm = confusion_matrix(y, y_pred)\n",
        "plt.figure(figsize=(5, 4))\n",
        "sns.heatmap(cm, annot=True, fmt='d', cmap='Blues',\n",
        "            xticklabels=sorted(y.unique()), yticklabels=sorted(y.unique()))\n",
        "plt.xlabel('Predicted')\n",
        "plt.ylabel('True')\n",
        "plt.title('Confusion Matrix (Full Subject S16)')\n",
        "plt.show()\n"
      ],
      "metadata": {
        "colab": {
          "base_uri": "https://localhost:8080/",
          "height": 584
        },
        "id": "Jlhrm65sXq3v",
        "outputId": "4a509184-fed2-4459-9abf-e672cac0a813"
      },
      "execution_count": 6,
      "outputs": [
        {
          "output_type": "stream",
          "name": "stdout",
          "text": [
            "Classification Report:\n",
            "              precision    recall  f1-score   support\n",
            "\n",
            "   No Stress       1.00      0.97      0.99        75\n",
            "      Stress       0.91      1.00      0.95        21\n",
            "\n",
            "    accuracy                           0.98        96\n",
            "   macro avg       0.96      0.99      0.97        96\n",
            "weighted avg       0.98      0.98      0.98        96\n",
            "\n"
          ]
        },
        {
          "output_type": "display_data",
          "data": {
            "text/plain": [
              "<Figure size 500x400 with 2 Axes>"
            ],
            "image/png": "[encoded data removed]"
          },
          "metadata": {}
        }
      ]
    },
    {
      "cell_type": "code",
      "source": [
        "import pandas as pd\n",
        "from sklearn.metrics import classification_report, confusion_matrix\n",
        "import joblib\n",
        "import seaborn as sns\n",
        "import matplotlib.pyplot as plt\n",
        "\n",
        "# Load dataset for unseen subject\n",
        "df = pd.read_csv('/content/drive/MyDrive/WESAD_pkl/ECG/hrv_features_labeled_S17.csv')\n",
        "\n",
        "# Convert to binary stress label (Label==2 then 1, else 0)\n",
        "df['Label'] = df['Label'].apply(lambda x: 1 if x == 2 else 0)\n",
        "\n",
        "# Separate features and labels\n",
        "X = df.drop(columns=['Label'], errors='ignore')\n",
        "y = df['Label']\n",
        "\n",
        "clf = joblib.load('/content/drive/MyDrive/WESAD_pkl/ECG/models/stress_rf_model_binary_LOGO.pkl')\n",
        "\n",
        "y_pred = clf.predict(X)\n",
        "\n",
        "# classification report\n",
        "print(\"Classification Report:\")\n",
        "print(classification_report(y, y_pred, target_names=['No Stress', 'Stress']))\n",
        "\n",
        "# Confusion matrix\n",
        "cm = confusion_matrix(y, y_pred)\n",
        "plt.figure(figsize=(5, 4))\n",
        "sns.heatmap(cm, annot=True, fmt='d', cmap='Blues',\n",
        "            xticklabels=sorted(y.unique()), yticklabels=sorted(y.unique()))\n",
        "plt.xlabel('Predicted')\n",
        "plt.ylabel('True')\n",
        "plt.title('Confusion Matrix (Full Subject S16)')\n",
        "plt.show()\n"
      ],
      "metadata": {
        "colab": {
          "base_uri": "https://localhost:8080/",
          "height": 584
        },
        "id": "XcJc6ZQeYSCn",
        "outputId": "8067003b-08d4-4881-85c2-1ccbce2a77b2"
      },
      "execution_count": 8,
      "outputs": [
        {
          "output_type": "stream",
          "name": "stdout",
          "text": [
            "Classification Report:\n",
            "              precision    recall  f1-score   support\n",
            "\n",
            "   No Stress       0.99      0.97      0.98        73\n",
            "      Stress       0.92      0.96      0.94        24\n",
            "\n",
            "    accuracy                           0.97        97\n",
            "   macro avg       0.95      0.97      0.96        97\n",
            "weighted avg       0.97      0.97      0.97        97\n",
            "\n"
          ]
        },
        {
          "output_type": "display_data",
          "data": {
            "text/plain": [
              "<Figure size 500x400 with 2 Axes>"
            ],
            "image/png": "[encoded data removed]"
          },
          "metadata": {}
        }
      ]
    }
  ]
}